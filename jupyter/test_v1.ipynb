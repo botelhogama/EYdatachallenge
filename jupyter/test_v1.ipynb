{
 "cells": [
  {
   "metadata": {
    "ExecuteTime": {
     "end_time": "2025-01-30T03:08:05.017203Z",
     "start_time": "2025-01-30T03:08:05.001433Z"
    }
   },
   "cell_type": "code",
   "source": [
    "import os\n",
    "# Supress Warnings\n",
    "import warnings\n",
    "\n",
    "from tqdm import tqdm\n",
    "\n",
    "warnings.filterwarnings('ignore')\n",
    "\n",
    "# Import common GIS tools\n",
    "import numpy as np\n",
    "import xarray as xr\n",
    "import matplotlib.pyplot as plt\n",
    "import rioxarray as rio\n",
    "import rasterio\n",
    "import pandas as pd\n",
    "from matplotlib.cm import RdYlGn,jet,RdBu\n",
    "\n",
    "# Import Planetary Computer tools\n",
    "import stackstac\n",
    "import pystac_client\n",
    "import planetary_computer\n",
    "from odc.stac import stac_load"
   ],
   "id": "7c9f30e8d8606ddc",
   "outputs": [],
   "execution_count": 157
  },
  {
   "metadata": {},
   "cell_type": "markdown",
   "source": "# LOADING Training Data\n",
   "id": "3cc03b5995805b50"
  },
  {
   "metadata": {
    "ExecuteTime": {
     "end_time": "2025-01-30T03:08:05.048793Z",
     "start_time": "2025-01-30T03:08:05.026878Z"
    }
   },
   "cell_type": "code",
   "source": [
    "# Calculate NDVI\n",
    "training_data = pd.read_csv(\"../data_test/training_data_uhi_index.csv\")\n",
    "training_data.head()"
   ],
   "id": "9c36672ae4863c18",
   "outputs": [
    {
     "data": {
      "text/plain": [
       "   Longitude   Latitude          datetime  UHI Index\n",
       "0 -73.909167  40.813107  24-07-2021 15:53   1.030289\n",
       "1 -73.909187  40.813045  24-07-2021 15:53   1.030289\n",
       "2 -73.909215  40.812978  24-07-2021 15:53   1.023798\n",
       "3 -73.909242  40.812908  24-07-2021 15:53   1.023798\n",
       "4 -73.909257  40.812845  24-07-2021 15:53   1.021634"
      ],
      "text/html": [
       "<div>\n",
       "<style scoped>\n",
       "    .dataframe tbody tr th:only-of-type {\n",
       "        vertical-align: middle;\n",
       "    }\n",
       "\n",
       "    .dataframe tbody tr th {\n",
       "        vertical-align: top;\n",
       "    }\n",
       "\n",
       "    .dataframe thead th {\n",
       "        text-align: right;\n",
       "    }\n",
       "</style>\n",
       "<table border=\"1\" class=\"dataframe\">\n",
       "  <thead>\n",
       "    <tr style=\"text-align: right;\">\n",
       "      <th></th>\n",
       "      <th>Longitude</th>\n",
       "      <th>Latitude</th>\n",
       "      <th>datetime</th>\n",
       "      <th>UHI Index</th>\n",
       "    </tr>\n",
       "  </thead>\n",
       "  <tbody>\n",
       "    <tr>\n",
       "      <th>0</th>\n",
       "      <td>-73.909167</td>\n",
       "      <td>40.813107</td>\n",
       "      <td>24-07-2021 15:53</td>\n",
       "      <td>1.030289</td>\n",
       "    </tr>\n",
       "    <tr>\n",
       "      <th>1</th>\n",
       "      <td>-73.909187</td>\n",
       "      <td>40.813045</td>\n",
       "      <td>24-07-2021 15:53</td>\n",
       "      <td>1.030289</td>\n",
       "    </tr>\n",
       "    <tr>\n",
       "      <th>2</th>\n",
       "      <td>-73.909215</td>\n",
       "      <td>40.812978</td>\n",
       "      <td>24-07-2021 15:53</td>\n",
       "      <td>1.023798</td>\n",
       "    </tr>\n",
       "    <tr>\n",
       "      <th>3</th>\n",
       "      <td>-73.909242</td>\n",
       "      <td>40.812908</td>\n",
       "      <td>24-07-2021 15:53</td>\n",
       "      <td>1.023798</td>\n",
       "    </tr>\n",
       "    <tr>\n",
       "      <th>4</th>\n",
       "      <td>-73.909257</td>\n",
       "      <td>40.812845</td>\n",
       "      <td>24-07-2021 15:53</td>\n",
       "      <td>1.021634</td>\n",
       "    </tr>\n",
       "  </tbody>\n",
       "</table>\n",
       "</div>"
      ]
     },
     "execution_count": 158,
     "metadata": {},
     "output_type": "execute_result"
    }
   ],
   "execution_count": 158
  },
  {
   "metadata": {
    "ExecuteTime": {
     "end_time": "2025-01-30T03:08:05.128463Z",
     "start_time": "2025-01-30T03:08:05.112458Z"
    }
   },
   "cell_type": "code",
   "source": "training_data.rename(columns={\"Latitude\": \"latitude\", \"Longitude\": \"longitude\"}, inplace=True)",
   "id": "8a0f973fab0ec01",
   "outputs": [],
   "execution_count": 159
  },
  {
   "metadata": {
    "ExecuteTime": {
     "end_time": "2025-01-30T03:08:05.176473Z",
     "start_time": "2025-01-30T03:08:05.160426Z"
    }
   },
   "cell_type": "code",
   "source": "print(training_data['datetime'].min(), training_data['datetime'].max())",
   "id": "68068acb7836d2e",
   "outputs": [
    {
     "name": "stdout",
     "output_type": "stream",
     "text": [
      "24-07-2021 15:01 24-07-2021 15:59\n"
     ]
    }
   ],
   "execution_count": 160
  },
  {
   "metadata": {},
   "cell_type": "markdown",
   "source": "## Data Preparation",
   "id": "39a03f18cb75e5e6"
  },
  {
   "metadata": {
    "ExecuteTime": {
     "end_time": "2025-01-30T03:08:05.192243Z",
     "start_time": "2025-01-30T03:08:05.183496Z"
    }
   },
   "cell_type": "code",
   "source": [
    "# Calculate the bounds for doing an archive data search\n",
    "# bounds = (min_lon, min_lat, max_lon, max_lat)\n",
    "lower_left = (40.75, -74.01)\n",
    "upper_right = (40.88, -73.86)\n",
    "bounds = (lower_left[1], lower_left[0], upper_right[1], upper_right[0])"
   ],
   "id": "d08e84991e7305a1",
   "outputs": [],
   "execution_count": 161
  },
  {
   "metadata": {
    "ExecuteTime": {
     "end_time": "2025-01-30T03:08:05.239655Z",
     "start_time": "2025-01-30T03:08:05.224055Z"
    }
   },
   "cell_type": "code",
   "source": [
    "# Define the time window\n",
    "time_window = \"2021-06-01/2021-09-01\""
   ],
   "id": "7affeb60d5668aa0",
   "outputs": [],
   "execution_count": 162
  },
  {
   "metadata": {
    "ExecuteTime": {
     "end_time": "2025-01-30T03:08:06.243859Z",
     "start_time": "2025-01-30T03:08:05.271421Z"
    }
   },
   "cell_type": "code",
   "source": [
    "stac = pystac_client.Client.open(\"https://planetarycomputer.microsoft.com/api/stac/v1\")\n",
    "\n",
    "search = stac.search(\n",
    "    bbox=bounds,\n",
    "    datetime=time_window,\n",
    "    collections=[\"sentinel-2-l2a\"],\n",
    "    query={\"eo:cloud_cover\": {\"lt\": 30}},\n",
    ")"
   ],
   "id": "1973c7d8bf214087",
   "outputs": [],
   "execution_count": 163
  },
  {
   "metadata": {
    "ExecuteTime": {
     "end_time": "2025-01-30T03:08:06.579589Z",
     "start_time": "2025-01-30T03:08:06.275753Z"
    }
   },
   "cell_type": "code",
   "source": [
    "items = list(search.get_items())\n",
    "print('This is the number of scenes that touch our region:',len(items))"
   ],
   "id": "bff9a9294b5c8038",
   "outputs": [
    {
     "name": "stdout",
     "output_type": "stream",
     "text": [
      "This is the number of scenes that touch our region: 10\n"
     ]
    }
   ],
   "execution_count": 164
  },
  {
   "metadata": {
    "ExecuteTime": {
     "end_time": "2025-01-30T03:08:07.946167Z",
     "start_time": "2025-01-30T03:08:06.611421Z"
    }
   },
   "cell_type": "code",
   "source": "signed_items = [planetary_computer.sign(item).to_dict() for item in items]",
   "id": "4dbfba594373bbc",
   "outputs": [],
   "execution_count": 165
  },
  {
   "metadata": {
    "ExecuteTime": {
     "end_time": "2025-01-30T03:08:07.994142Z",
     "start_time": "2025-01-30T03:08:07.978093Z"
    }
   },
   "cell_type": "code",
   "source": [
    "# Define the pixel resolution for the final product\n",
    "# Define the scale according to our selected crs, so we will use degrees\n",
    "resolution = 10  # meters per pixel\n",
    "scale = resolution / 111320.0 # degrees per pixel for crs=4326"
   ],
   "id": "db880698bfc7c61",
   "outputs": [],
   "execution_count": 166
  },
  {
   "metadata": {
    "ExecuteTime": {
     "end_time": "2025-01-30T03:08:08.105124Z",
     "start_time": "2025-01-30T03:08:08.025640Z"
    }
   },
   "cell_type": "code",
   "source": [
    "data = stac_load(\n",
    "    items,\n",
    "    bands=[\"B01\", \"B02\", \"B03\", \"B04\", \"B05\", \"B06\", \"B07\", \"B08\", \"B8A\", \"B11\", \"B12\"],\n",
    "    crs=\"EPSG:4326\",  # Latitude-Longitude\n",
    "    resolution=scale,  # Degrees\n",
    "    chunks={\"x\": 2048, \"y\": 2048},\n",
    "    dtype=\"uint16\",\n",
    "    patch_url=planetary_computer.sign,\n",
    "    bbox=bounds\n",
    ")"
   ],
   "id": "a5760f0e1d58c85",
   "outputs": [],
   "execution_count": 167
  },
  {
   "metadata": {
    "ExecuteTime": {
     "end_time": "2025-01-30T03:08:38.215778Z",
     "start_time": "2025-01-30T03:08:08.136904Z"
    }
   },
   "cell_type": "code",
   "source": [
    "df = data.to_dataframe().reset_index()\n",
    "print(df.head())"
   ],
   "id": "2dc380d56f650a42",
   "outputs": [
    {
     "name": "stdout",
     "output_type": "stream",
     "text": [
      "    latitude  longitude                    time  spatial_ref   B01   B02  \\\n",
      "0  40.880031 -74.010016 2021-06-06 15:38:09.024         4326   734   832   \n",
      "1  40.880031 -74.010016 2021-06-16 15:38:09.024         4326   647   634   \n",
      "2  40.880031 -74.010016 2021-06-24 15:49:11.024         4326   722   717   \n",
      "3  40.880031 -74.010016 2021-06-29 15:48:09.024         4326   627   583   \n",
      "4  40.880031 -74.010016 2021-07-06 15:38:09.024         4326  1813  1740   \n",
      "\n",
      "    B03   B04   B05   B06   B07   B08   B8A   B11   B12  \n",
      "0   951   861  1097  2311  2549  2264  2811  1897  1259  \n",
      "1   802   793   988  2264  2728  2204  2873  1814  1224  \n",
      "2   935   885  1147  2135  2198  1738  2579  1754  1211  \n",
      "3   710   666   924  1719  2013  2026  2598  1704  1139  \n",
      "4  1628  1512  1699  1944  2023  1958  2076  1441  1161  \n"
     ]
    }
   ],
   "execution_count": 168
  },
  {
   "metadata": {
    "ExecuteTime": {
     "end_time": "2025-01-30T03:09:58.651793Z",
     "start_time": "2025-01-30T03:08:38.250903Z"
    }
   },
   "cell_type": "code",
   "source": [
    "df['time'] = pd.to_datetime(df['time'])\n",
    "df['time'] = df['time'].dt.strftime('%d-%m-%Y %H:%M')\n",
    "display(df)\n",
    "training_data['datetime'] = pd.to_datetime(training_data['datetime'], format='%d-%m-%Y %H:%M')"
   ],
   "id": "d552d6bd062383d2",
   "outputs": [
    {
     "data": {
      "text/plain": [
       "           latitude  longitude              time  spatial_ref   B01   B02  \\\n",
       "0         40.880031 -74.010016  06-06-2021 15:38         4326   734   832   \n",
       "1         40.880031 -74.010016  16-06-2021 15:38         4326   647   634   \n",
       "2         40.880031 -74.010016  24-06-2021 15:49         4326   722   717   \n",
       "3         40.880031 -74.010016  29-06-2021 15:48         4326   627   583   \n",
       "4         40.880031 -74.010016  06-07-2021 15:38         4326  1813  1740   \n",
       "...             ...        ...               ...          ...   ...   ...   \n",
       "24196075  40.750045 -73.859998  14-07-2021 15:49         4326  1637  1582   \n",
       "24196076  40.750045 -73.859998  16-07-2021 15:38         4326  1133  1322   \n",
       "24196077  40.750045 -73.859998  24-07-2021 15:49         4326  1182  1220   \n",
       "24196078  40.750045 -73.859998  31-07-2021 15:39         4326  1190  1394   \n",
       "24196079  40.750045 -73.859998  13-08-2021 15:49         4326  1044  1140   \n",
       "\n",
       "           B03   B04   B05   B06   B07   B08   B8A   B11   B12  \n",
       "0          951   861  1097  2311  2549  2264  2811  1897  1259  \n",
       "1          802   793   988  2264  2728  2204  2873  1814  1224  \n",
       "2          935   885  1147  2135  2198  1738  2579  1754  1211  \n",
       "3          710   666   924  1719  2013  2026  2598  1704  1139  \n",
       "4         1628  1512  1699  1944  2023  1958  2076  1441  1161  \n",
       "...        ...   ...   ...   ...   ...   ...   ...   ...   ...  \n",
       "24196075  1748  1666  1878  2120  2224  2064  2342  2245  1965  \n",
       "24196076  1446  1498  1632  1837  1807  1832  1981  2161  2006  \n",
       "24196077  1398  1418  1530  1557  1903  1788  1797  1909  1721  \n",
       "24196078  1548  1566  1646  1888  1862  1840  1829  2102  1858  \n",
       "24196079  1266  1272  1391  1678  1622  1528  1713  1828  1603  \n",
       "\n",
       "[24196080 rows x 15 columns]"
      ],
      "text/html": [
       "<div>\n",
       "<style scoped>\n",
       "    .dataframe tbody tr th:only-of-type {\n",
       "        vertical-align: middle;\n",
       "    }\n",
       "\n",
       "    .dataframe tbody tr th {\n",
       "        vertical-align: top;\n",
       "    }\n",
       "\n",
       "    .dataframe thead th {\n",
       "        text-align: right;\n",
       "    }\n",
       "</style>\n",
       "<table border=\"1\" class=\"dataframe\">\n",
       "  <thead>\n",
       "    <tr style=\"text-align: right;\">\n",
       "      <th></th>\n",
       "      <th>latitude</th>\n",
       "      <th>longitude</th>\n",
       "      <th>time</th>\n",
       "      <th>spatial_ref</th>\n",
       "      <th>B01</th>\n",
       "      <th>B02</th>\n",
       "      <th>B03</th>\n",
       "      <th>B04</th>\n",
       "      <th>B05</th>\n",
       "      <th>B06</th>\n",
       "      <th>B07</th>\n",
       "      <th>B08</th>\n",
       "      <th>B8A</th>\n",
       "      <th>B11</th>\n",
       "      <th>B12</th>\n",
       "    </tr>\n",
       "  </thead>\n",
       "  <tbody>\n",
       "    <tr>\n",
       "      <th>0</th>\n",
       "      <td>40.880031</td>\n",
       "      <td>-74.010016</td>\n",
       "      <td>06-06-2021 15:38</td>\n",
       "      <td>4326</td>\n",
       "      <td>734</td>\n",
       "      <td>832</td>\n",
       "      <td>951</td>\n",
       "      <td>861</td>\n",
       "      <td>1097</td>\n",
       "      <td>2311</td>\n",
       "      <td>2549</td>\n",
       "      <td>2264</td>\n",
       "      <td>2811</td>\n",
       "      <td>1897</td>\n",
       "      <td>1259</td>\n",
       "    </tr>\n",
       "    <tr>\n",
       "      <th>1</th>\n",
       "      <td>40.880031</td>\n",
       "      <td>-74.010016</td>\n",
       "      <td>16-06-2021 15:38</td>\n",
       "      <td>4326</td>\n",
       "      <td>647</td>\n",
       "      <td>634</td>\n",
       "      <td>802</td>\n",
       "      <td>793</td>\n",
       "      <td>988</td>\n",
       "      <td>2264</td>\n",
       "      <td>2728</td>\n",
       "      <td>2204</td>\n",
       "      <td>2873</td>\n",
       "      <td>1814</td>\n",
       "      <td>1224</td>\n",
       "    </tr>\n",
       "    <tr>\n",
       "      <th>2</th>\n",
       "      <td>40.880031</td>\n",
       "      <td>-74.010016</td>\n",
       "      <td>24-06-2021 15:49</td>\n",
       "      <td>4326</td>\n",
       "      <td>722</td>\n",
       "      <td>717</td>\n",
       "      <td>935</td>\n",
       "      <td>885</td>\n",
       "      <td>1147</td>\n",
       "      <td>2135</td>\n",
       "      <td>2198</td>\n",
       "      <td>1738</td>\n",
       "      <td>2579</td>\n",
       "      <td>1754</td>\n",
       "      <td>1211</td>\n",
       "    </tr>\n",
       "    <tr>\n",
       "      <th>3</th>\n",
       "      <td>40.880031</td>\n",
       "      <td>-74.010016</td>\n",
       "      <td>29-06-2021 15:48</td>\n",
       "      <td>4326</td>\n",
       "      <td>627</td>\n",
       "      <td>583</td>\n",
       "      <td>710</td>\n",
       "      <td>666</td>\n",
       "      <td>924</td>\n",
       "      <td>1719</td>\n",
       "      <td>2013</td>\n",
       "      <td>2026</td>\n",
       "      <td>2598</td>\n",
       "      <td>1704</td>\n",
       "      <td>1139</td>\n",
       "    </tr>\n",
       "    <tr>\n",
       "      <th>4</th>\n",
       "      <td>40.880031</td>\n",
       "      <td>-74.010016</td>\n",
       "      <td>06-07-2021 15:38</td>\n",
       "      <td>4326</td>\n",
       "      <td>1813</td>\n",
       "      <td>1740</td>\n",
       "      <td>1628</td>\n",
       "      <td>1512</td>\n",
       "      <td>1699</td>\n",
       "      <td>1944</td>\n",
       "      <td>2023</td>\n",
       "      <td>1958</td>\n",
       "      <td>2076</td>\n",
       "      <td>1441</td>\n",
       "      <td>1161</td>\n",
       "    </tr>\n",
       "    <tr>\n",
       "      <th>...</th>\n",
       "      <td>...</td>\n",
       "      <td>...</td>\n",
       "      <td>...</td>\n",
       "      <td>...</td>\n",
       "      <td>...</td>\n",
       "      <td>...</td>\n",
       "      <td>...</td>\n",
       "      <td>...</td>\n",
       "      <td>...</td>\n",
       "      <td>...</td>\n",
       "      <td>...</td>\n",
       "      <td>...</td>\n",
       "      <td>...</td>\n",
       "      <td>...</td>\n",
       "      <td>...</td>\n",
       "    </tr>\n",
       "    <tr>\n",
       "      <th>24196075</th>\n",
       "      <td>40.750045</td>\n",
       "      <td>-73.859998</td>\n",
       "      <td>14-07-2021 15:49</td>\n",
       "      <td>4326</td>\n",
       "      <td>1637</td>\n",
       "      <td>1582</td>\n",
       "      <td>1748</td>\n",
       "      <td>1666</td>\n",
       "      <td>1878</td>\n",
       "      <td>2120</td>\n",
       "      <td>2224</td>\n",
       "      <td>2064</td>\n",
       "      <td>2342</td>\n",
       "      <td>2245</td>\n",
       "      <td>1965</td>\n",
       "    </tr>\n",
       "    <tr>\n",
       "      <th>24196076</th>\n",
       "      <td>40.750045</td>\n",
       "      <td>-73.859998</td>\n",
       "      <td>16-07-2021 15:38</td>\n",
       "      <td>4326</td>\n",
       "      <td>1133</td>\n",
       "      <td>1322</td>\n",
       "      <td>1446</td>\n",
       "      <td>1498</td>\n",
       "      <td>1632</td>\n",
       "      <td>1837</td>\n",
       "      <td>1807</td>\n",
       "      <td>1832</td>\n",
       "      <td>1981</td>\n",
       "      <td>2161</td>\n",
       "      <td>2006</td>\n",
       "    </tr>\n",
       "    <tr>\n",
       "      <th>24196077</th>\n",
       "      <td>40.750045</td>\n",
       "      <td>-73.859998</td>\n",
       "      <td>24-07-2021 15:49</td>\n",
       "      <td>4326</td>\n",
       "      <td>1182</td>\n",
       "      <td>1220</td>\n",
       "      <td>1398</td>\n",
       "      <td>1418</td>\n",
       "      <td>1530</td>\n",
       "      <td>1557</td>\n",
       "      <td>1903</td>\n",
       "      <td>1788</td>\n",
       "      <td>1797</td>\n",
       "      <td>1909</td>\n",
       "      <td>1721</td>\n",
       "    </tr>\n",
       "    <tr>\n",
       "      <th>24196078</th>\n",
       "      <td>40.750045</td>\n",
       "      <td>-73.859998</td>\n",
       "      <td>31-07-2021 15:39</td>\n",
       "      <td>4326</td>\n",
       "      <td>1190</td>\n",
       "      <td>1394</td>\n",
       "      <td>1548</td>\n",
       "      <td>1566</td>\n",
       "      <td>1646</td>\n",
       "      <td>1888</td>\n",
       "      <td>1862</td>\n",
       "      <td>1840</td>\n",
       "      <td>1829</td>\n",
       "      <td>2102</td>\n",
       "      <td>1858</td>\n",
       "    </tr>\n",
       "    <tr>\n",
       "      <th>24196079</th>\n",
       "      <td>40.750045</td>\n",
       "      <td>-73.859998</td>\n",
       "      <td>13-08-2021 15:49</td>\n",
       "      <td>4326</td>\n",
       "      <td>1044</td>\n",
       "      <td>1140</td>\n",
       "      <td>1266</td>\n",
       "      <td>1272</td>\n",
       "      <td>1391</td>\n",
       "      <td>1678</td>\n",
       "      <td>1622</td>\n",
       "      <td>1528</td>\n",
       "      <td>1713</td>\n",
       "      <td>1828</td>\n",
       "      <td>1603</td>\n",
       "    </tr>\n",
       "  </tbody>\n",
       "</table>\n",
       "<p>24196080 rows × 15 columns</p>\n",
       "</div>"
      ]
     },
     "metadata": {},
     "output_type": "display_data"
    }
   ],
   "execution_count": 169
  },
  {
   "metadata": {
    "ExecuteTime": {
     "end_time": "2025-01-30T03:09:58.794341Z",
     "start_time": "2025-01-30T03:09:58.714797Z"
    }
   },
   "cell_type": "code",
   "source": [
    "df_filtered = df[\n",
    "    (df['time'] <= training_data['datetime'].max()) &\n",
    "    (df['time'] >= training_data['datetime'].min())\n",
    "]\n",
    "display(df_filtered)\n",
    "df_filtered.to_csv('../data_test_test/df_filtered_date.csv', index=False) if not os.path.exists('../data_test/df_filtered_date.csv') else None\n"
   ],
   "id": "ae5108836c8550d3",
   "outputs": [
    {
     "ename": "TypeError",
     "evalue": "'<=' not supported between instances of 'str' and 'Timestamp'",
     "output_type": "error",
     "traceback": [
      "\u001B[1;31m---------------------------------------------------------------------------\u001B[0m",
      "\u001B[1;31mTypeError\u001B[0m                                 Traceback (most recent call last)",
      "Cell \u001B[1;32mIn[170], line 2\u001B[0m\n\u001B[0;32m      1\u001B[0m df_filtered \u001B[38;5;241m=\u001B[39m df[\n\u001B[1;32m----> 2\u001B[0m     (\u001B[43mdf\u001B[49m\u001B[43m[\u001B[49m\u001B[38;5;124;43m'\u001B[39;49m\u001B[38;5;124;43mtime\u001B[39;49m\u001B[38;5;124;43m'\u001B[39;49m\u001B[43m]\u001B[49m\u001B[43m \u001B[49m\u001B[38;5;241;43m<\u001B[39;49m\u001B[38;5;241;43m=\u001B[39;49m\u001B[43m \u001B[49m\u001B[43mtraining_data\u001B[49m\u001B[43m[\u001B[49m\u001B[38;5;124;43m'\u001B[39;49m\u001B[38;5;124;43mdatetime\u001B[39;49m\u001B[38;5;124;43m'\u001B[39;49m\u001B[43m]\u001B[49m\u001B[38;5;241;43m.\u001B[39;49m\u001B[43mmax\u001B[49m\u001B[43m(\u001B[49m\u001B[43m)\u001B[49m) \u001B[38;5;241m&\u001B[39m\n\u001B[0;32m      3\u001B[0m     (df[\u001B[38;5;124m'\u001B[39m\u001B[38;5;124mtime\u001B[39m\u001B[38;5;124m'\u001B[39m] \u001B[38;5;241m>\u001B[39m\u001B[38;5;241m=\u001B[39m training_data[\u001B[38;5;124m'\u001B[39m\u001B[38;5;124mdatetime\u001B[39m\u001B[38;5;124m'\u001B[39m]\u001B[38;5;241m.\u001B[39mmin())\n\u001B[0;32m      4\u001B[0m ]\n\u001B[0;32m      5\u001B[0m display(df_filtered)\n\u001B[0;32m      6\u001B[0m df_filtered\u001B[38;5;241m.\u001B[39mto_csv(\u001B[38;5;124m'\u001B[39m\u001B[38;5;124m../data/df_filtered_date.csv\u001B[39m\u001B[38;5;124m'\u001B[39m, index\u001B[38;5;241m=\u001B[39m\u001B[38;5;28;01mFalse\u001B[39;00m) \u001B[38;5;28;01mif\u001B[39;00m \u001B[38;5;129;01mnot\u001B[39;00m os\u001B[38;5;241m.\u001B[39mpath\u001B[38;5;241m.\u001B[39mexists(\u001B[38;5;124m'\u001B[39m\u001B[38;5;124m../data/df_filtered_date.csv\u001B[39m\u001B[38;5;124m'\u001B[39m) \u001B[38;5;28;01melse\u001B[39;00m \u001B[38;5;28;01mNone\u001B[39;00m\n",
      "File \u001B[1;32m~\\PycharmProjects\\EY_DataChallenge_2025\\.venv\\lib\\site-packages\\pandas\\core\\ops\\common.py:76\u001B[0m, in \u001B[0;36m_unpack_zerodim_and_defer.<locals>.new_method\u001B[1;34m(self, other)\u001B[0m\n\u001B[0;32m     72\u001B[0m             \u001B[38;5;28;01mreturn\u001B[39;00m \u001B[38;5;28mNotImplemented\u001B[39m\n\u001B[0;32m     74\u001B[0m other \u001B[38;5;241m=\u001B[39m item_from_zerodim(other)\n\u001B[1;32m---> 76\u001B[0m \u001B[38;5;28;01mreturn\u001B[39;00m \u001B[43mmethod\u001B[49m\u001B[43m(\u001B[49m\u001B[38;5;28;43mself\u001B[39;49m\u001B[43m,\u001B[49m\u001B[43m \u001B[49m\u001B[43mother\u001B[49m\u001B[43m)\u001B[49m\n",
      "File \u001B[1;32m~\\PycharmProjects\\EY_DataChallenge_2025\\.venv\\lib\\site-packages\\pandas\\core\\arraylike.py:52\u001B[0m, in \u001B[0;36mOpsMixin.__le__\u001B[1;34m(self, other)\u001B[0m\n\u001B[0;32m     50\u001B[0m \u001B[38;5;129m@unpack_zerodim_and_defer\u001B[39m(\u001B[38;5;124m\"\u001B[39m\u001B[38;5;124m__le__\u001B[39m\u001B[38;5;124m\"\u001B[39m)\n\u001B[0;32m     51\u001B[0m \u001B[38;5;28;01mdef\u001B[39;00m\u001B[38;5;250m \u001B[39m\u001B[38;5;21m__le__\u001B[39m(\u001B[38;5;28mself\u001B[39m, other):\n\u001B[1;32m---> 52\u001B[0m     \u001B[38;5;28;01mreturn\u001B[39;00m \u001B[38;5;28;43mself\u001B[39;49m\u001B[38;5;241;43m.\u001B[39;49m\u001B[43m_cmp_method\u001B[49m\u001B[43m(\u001B[49m\u001B[43mother\u001B[49m\u001B[43m,\u001B[49m\u001B[43m \u001B[49m\u001B[43moperator\u001B[49m\u001B[38;5;241;43m.\u001B[39;49m\u001B[43mle\u001B[49m\u001B[43m)\u001B[49m\n",
      "File \u001B[1;32m~\\PycharmProjects\\EY_DataChallenge_2025\\.venv\\lib\\site-packages\\pandas\\core\\series.py:6119\u001B[0m, in \u001B[0;36mSeries._cmp_method\u001B[1;34m(self, other, op)\u001B[0m\n\u001B[0;32m   6116\u001B[0m lvalues \u001B[38;5;241m=\u001B[39m \u001B[38;5;28mself\u001B[39m\u001B[38;5;241m.\u001B[39m_values\n\u001B[0;32m   6117\u001B[0m rvalues \u001B[38;5;241m=\u001B[39m extract_array(other, extract_numpy\u001B[38;5;241m=\u001B[39m\u001B[38;5;28;01mTrue\u001B[39;00m, extract_range\u001B[38;5;241m=\u001B[39m\u001B[38;5;28;01mTrue\u001B[39;00m)\n\u001B[1;32m-> 6119\u001B[0m res_values \u001B[38;5;241m=\u001B[39m \u001B[43mops\u001B[49m\u001B[38;5;241;43m.\u001B[39;49m\u001B[43mcomparison_op\u001B[49m\u001B[43m(\u001B[49m\u001B[43mlvalues\u001B[49m\u001B[43m,\u001B[49m\u001B[43m \u001B[49m\u001B[43mrvalues\u001B[49m\u001B[43m,\u001B[49m\u001B[43m \u001B[49m\u001B[43mop\u001B[49m\u001B[43m)\u001B[49m\n\u001B[0;32m   6121\u001B[0m \u001B[38;5;28;01mreturn\u001B[39;00m \u001B[38;5;28mself\u001B[39m\u001B[38;5;241m.\u001B[39m_construct_result(res_values, name\u001B[38;5;241m=\u001B[39mres_name)\n",
      "File \u001B[1;32m~\\PycharmProjects\\EY_DataChallenge_2025\\.venv\\lib\\site-packages\\pandas\\core\\ops\\array_ops.py:344\u001B[0m, in \u001B[0;36mcomparison_op\u001B[1;34m(left, right, op)\u001B[0m\n\u001B[0;32m    341\u001B[0m     \u001B[38;5;28;01mreturn\u001B[39;00m invalid_comparison(lvalues, rvalues, op)\n\u001B[0;32m    343\u001B[0m \u001B[38;5;28;01melif\u001B[39;00m lvalues\u001B[38;5;241m.\u001B[39mdtype \u001B[38;5;241m==\u001B[39m \u001B[38;5;28mobject\u001B[39m \u001B[38;5;129;01mor\u001B[39;00m \u001B[38;5;28misinstance\u001B[39m(rvalues, \u001B[38;5;28mstr\u001B[39m):\n\u001B[1;32m--> 344\u001B[0m     res_values \u001B[38;5;241m=\u001B[39m \u001B[43mcomp_method_OBJECT_ARRAY\u001B[49m\u001B[43m(\u001B[49m\u001B[43mop\u001B[49m\u001B[43m,\u001B[49m\u001B[43m \u001B[49m\u001B[43mlvalues\u001B[49m\u001B[43m,\u001B[49m\u001B[43m \u001B[49m\u001B[43mrvalues\u001B[49m\u001B[43m)\u001B[49m\n\u001B[0;32m    346\u001B[0m \u001B[38;5;28;01melse\u001B[39;00m:\n\u001B[0;32m    347\u001B[0m     res_values \u001B[38;5;241m=\u001B[39m _na_arithmetic_op(lvalues, rvalues, op, is_cmp\u001B[38;5;241m=\u001B[39m\u001B[38;5;28;01mTrue\u001B[39;00m)\n",
      "File \u001B[1;32m~\\PycharmProjects\\EY_DataChallenge_2025\\.venv\\lib\\site-packages\\pandas\\core\\ops\\array_ops.py:129\u001B[0m, in \u001B[0;36mcomp_method_OBJECT_ARRAY\u001B[1;34m(op, x, y)\u001B[0m\n\u001B[0;32m    127\u001B[0m     result \u001B[38;5;241m=\u001B[39m libops\u001B[38;5;241m.\u001B[39mvec_compare(x\u001B[38;5;241m.\u001B[39mravel(), y\u001B[38;5;241m.\u001B[39mravel(), op)\n\u001B[0;32m    128\u001B[0m \u001B[38;5;28;01melse\u001B[39;00m:\n\u001B[1;32m--> 129\u001B[0m     result \u001B[38;5;241m=\u001B[39m \u001B[43mlibops\u001B[49m\u001B[38;5;241;43m.\u001B[39;49m\u001B[43mscalar_compare\u001B[49m\u001B[43m(\u001B[49m\u001B[43mx\u001B[49m\u001B[38;5;241;43m.\u001B[39;49m\u001B[43mravel\u001B[49m\u001B[43m(\u001B[49m\u001B[43m)\u001B[49m\u001B[43m,\u001B[49m\u001B[43m \u001B[49m\u001B[43my\u001B[49m\u001B[43m,\u001B[49m\u001B[43m \u001B[49m\u001B[43mop\u001B[49m\u001B[43m)\u001B[49m\n\u001B[0;32m    130\u001B[0m \u001B[38;5;28;01mreturn\u001B[39;00m result\u001B[38;5;241m.\u001B[39mreshape(x\u001B[38;5;241m.\u001B[39mshape)\n",
      "File \u001B[1;32mops.pyx:107\u001B[0m, in \u001B[0;36mpandas._libs.ops.scalar_compare\u001B[1;34m()\u001B[0m\n",
      "\u001B[1;31mTypeError\u001B[0m: '<=' not supported between instances of 'str' and 'Timestamp'"
     ]
    }
   ],
   "execution_count": 170
  },
  {
   "metadata": {
    "ExecuteTime": {
     "end_time": "2025-01-30T03:09:58.794341700Z",
     "start_time": "2025-01-28T02:03:46.096913Z"
    }
   },
   "cell_type": "code",
   "source": [
    "# Calculate NDVI and MNDWI for each pixel\n",
    "# Calculate NDVI\n",
    "ndvi = (df_filtered.B08 - df_filtered.B04) / (df_filtered.B08 + df_filtered.B04)\n",
    "\n",
    "# Calculate MNDWI\n",
    "mndwi = (df_filtered.B03 - df_filtered.B11) / (df_filtered.B03 + df_filtered.B11)\n",
    "\n",
    "# Add NDVI and MNDWI to the dataset\n",
    "df_filtered = df_filtered.assign(NDVI=ndvi, MNDWI=mndwi)\n",
    "\n",
    "# Inspect the updated dataset\n",
    "print(df_filtered)\n",
    "df_filtered.to_csv('../data_test/df_NDVI_MNDWI.csv', index=False) if not os.path.exists('../data_test/df_NDVI_MNDWI.csv') else None"
   ],
   "id": "6ed3207f295dc1a4",
   "outputs": [
    {
     "name": "stdout",
     "output_type": "stream",
     "text": [
      "           latitude  longitude              time  spatial_ref   B01   B02  \\\n",
      "7         40.880031 -74.010016  24-07-2021 15:49         4326   666   639   \n",
      "17        40.880031 -74.009926  24-07-2021 15:49         4326   666   639   \n",
      "27        40.880031 -74.009837  24-07-2021 15:49         4326   666   395   \n",
      "37        40.880031 -74.009747  24-07-2021 15:49         4326   666   562   \n",
      "47        40.880031 -74.009657  24-07-2021 15:49         4326   710   919   \n",
      "...             ...        ...               ...          ...   ...   ...   \n",
      "24196037  40.750045 -73.860358  24-07-2021 15:49         4326  1175  1412   \n",
      "24196047  40.750045 -73.860268  24-07-2021 15:49         4326  1175   980   \n",
      "24196057  40.750045 -73.860178  24-07-2021 15:49         4326  1182  1202   \n",
      "24196067  40.750045 -73.860088  24-07-2021 15:49         4326  1182  1220   \n",
      "24196077  40.750045 -73.859998  24-07-2021 15:49         4326  1182  1220   \n",
      "\n",
      "           B03   B04   B05   B06   B07   B08   B8A   B11   B12       NDVI  \\\n",
      "7          728   839  1023  2034  2064  1440  2438  1578  1083   0.263712   \n",
      "17         728   839  1023  2034  2064  1440  2438  1578  1083   0.263712   \n",
      "27         579   415   889  1850  2216  2354  2133  1554  1029   0.700253   \n",
      "37         775   688   889  1850  2216  2270  2133  1554  1029   0.534821   \n",
      "47        1036  1108  1201  1566  1757  1584  1908  1742  1353   0.176820   \n",
      "...        ...   ...   ...   ...   ...   ...   ...   ...   ...        ...   \n",
      "24196037  1362  1602  1858  1940  1908  1588  2050  2202  1989  20.539812   \n",
      "24196047  1290  1444  1858  1940  1908  1684  2050  2202  1989   0.076726   \n",
      "24196057  1326  1416  1530  1557  1903  1842  1797  1909  1721   0.130755   \n",
      "24196067  1398  1418  1530  1557  1903  1788  1797  1909  1721   0.115409   \n",
      "24196077  1398  1418  1530  1557  1903  1788  1797  1909  1721   0.115409   \n",
      "\n",
      "              MNDWI  \n",
      "7         28.051171  \n",
      "17        28.051171  \n",
      "27        30.267698  \n",
      "37        27.804637  \n",
      "47        23.336933  \n",
      "...             ...  \n",
      "24196037  18.152637  \n",
      "24196047  18.506300  \n",
      "24196057  20.078207  \n",
      "24196067  19.662836  \n",
      "24196077  19.662836  \n",
      "\n",
      "[2419608 rows x 17 columns]\n"
     ]
    }
   ],
   "execution_count": 78
  },
  {
   "metadata": {
    "ExecuteTime": {
     "end_time": "2025-01-30T03:09:58.795846500Z",
     "start_time": "2025-01-28T04:00:47.778098Z"
    }
   },
   "cell_type": "code",
   "source": [
    "# Rename columns in training_data to match df_filtered\n",
    "training_data.rename(columns={\"Latitude\": \"latitude\", \"Longitude\": \"longitude\"}, inplace=True)\n",
    "training_data.reset_index(drop=True, inplace=True)\n",
    "df_filtered.reset_index(drop=True, inplace=True)\n",
    "\n",
    "# Ensure latitude and longitude are of the same data type\n",
    "training_data[\"latitude\"] = training_data[\"latitude\"].astype(float)\n",
    "training_data[\"longitude\"] = training_data[\"longitude\"].astype(float)\n",
    "\n",
    "df_filtered[\"latitude\"] = df_filtered[\"latitude\"].astype(float)\n",
    "df_filtered[\"longitude\"] = df_filtered[\"longitude\"].astype(float)\n",
    "\n",
    "print(training_data.dtypes)\n",
    "print(df_filtered.dtypes)\n",
    "\n",
    "\n",
    "# Perform the join (left join example)\n",
    "merged_data = pd.merge(\n",
    "    training_data,       # Left dataframe\n",
    "    df_filtered,         # Right dataframe\n",
    "    on=[\"latitude\", \"longitude\"],  # Join keys\n",
    "    how=\"left\"           # Join type (use 'inner', 'outer', or 'right' if needed)\n",
    ")\n",
    "\n",
    "# Inspect the merged data\n"
   ],
   "id": "801cdb8ff9f0a85c",
   "outputs": [
    {
     "name": "stdout",
     "output_type": "stream",
     "text": [
      "longitude    float64\n",
      "latitude     float64\n",
      "datetime      object\n",
      "UHI Index    float64\n",
      "dtype: object\n",
      "latitude       float64\n",
      "longitude      float64\n",
      "time            object\n",
      "spatial_ref      int32\n",
      "B01             uint16\n",
      "B02             uint16\n",
      "B03             uint16\n",
      "B04             uint16\n",
      "B05             uint16\n",
      "B06             uint16\n",
      "B07             uint16\n",
      "B08             uint16\n",
      "B8A             uint16\n",
      "B11             uint16\n",
      "B12             uint16\n",
      "NDVI           float64\n",
      "MNDWI          float64\n",
      "dtype: object\n"
     ]
    },
    {
     "data": {
      "text/plain": [
       "Empty DataFrame\n",
       "Columns: [longitude, latitude, datetime, UHI Index]\n",
       "Index: []"
      ],
      "text/html": [
       "<div>\n",
       "<style scoped>\n",
       "    .dataframe tbody tr th:only-of-type {\n",
       "        vertical-align: middle;\n",
       "    }\n",
       "\n",
       "    .dataframe tbody tr th {\n",
       "        vertical-align: top;\n",
       "    }\n",
       "\n",
       "    .dataframe thead th {\n",
       "        text-align: right;\n",
       "    }\n",
       "</style>\n",
       "<table border=\"1\" class=\"dataframe\">\n",
       "  <thead>\n",
       "    <tr style=\"text-align: right;\">\n",
       "      <th></th>\n",
       "      <th>longitude</th>\n",
       "      <th>latitude</th>\n",
       "      <th>datetime</th>\n",
       "      <th>UHI Index</th>\n",
       "    </tr>\n",
       "  </thead>\n",
       "  <tbody>\n",
       "  </tbody>\n",
       "</table>\n",
       "</div>"
      ]
     },
     "metadata": {},
     "output_type": "display_data"
    }
   ],
   "execution_count": 95
  },
  {
   "metadata": {
    "ExecuteTime": {
     "end_time": "2025-01-30T03:09:58.795846500Z",
     "start_time": "2025-01-28T04:04:21.645962Z"
    }
   },
   "cell_type": "code",
   "source": [
    "# Check for null values in the key columns\n",
    "print(\"Null values in training_data:\")\n",
    "print(training_data[[\"latitude\", \"longitude\"]].isnull().sum())\n",
    "\n",
    "print(\"\\nNull values in df_filtered:\")\n",
    "print(df_filtered[[\"latitude\", \"longitude\"]].isnull().sum())\n",
    "\n",
    "# Check for common keys by performing an inner join\n",
    "common_keys = pd.merge(\n",
    "    training_data[[\"latitude\", \"longitude\"]],\n",
    "    df_filtered[[\"latitude\", \"longitude\"]],\n",
    "    on=[\"latitude\", \"longitude\"],\n",
    "    how=\"inner\"\n",
    ")\n",
    "\n",
    "print(f\"\\nNumber of matching keys: {len(common_keys)}\")\n"
   ],
   "id": "3a310feb16d8b05a",
   "outputs": [
    {
     "name": "stdout",
     "output_type": "stream",
     "text": [
      "Null values in training_data:\n",
      "latitude     0\n",
      "longitude    0\n",
      "dtype: int64\n",
      "\n",
      "Null values in df_filtered:\n",
      "latitude     0\n",
      "longitude    0\n",
      "dtype: int64\n",
      "\n",
      "Number of matching keys: 0\n"
     ]
    }
   ],
   "execution_count": 101
  },
  {
   "metadata": {
    "ExecuteTime": {
     "end_time": "2025-01-30T03:09:58.795846500Z",
     "start_time": "2025-01-28T04:02:56.727902Z"
    }
   },
   "cell_type": "code",
   "source": [
    "## histogram of latitude for training data and df_filtered separetely side by side\n",
    "fig, ax = plt.subplots(1, 2, figsize=(12, 6))\n",
    "training_data[\"latitude\"].hist(ax=ax[0])\n",
    "ax[0].set_title(\"Training Data\")\n",
    "ax[0].set_xlabel(\"Latitude\")\n",
    "ax[0].set_ylabel(\"Frequency\")\n",
    "\n",
    "df_filtered[\"latitude\"].hist(ax=ax[1])\n",
    "ax[1].set_title(\"Satellite Data\")\n",
    "ax[1].set_xlabel(\"Latitude\")\n",
    "ax[1].set_ylabel(\"Frequency\")\n",
    "\n",
    "plt.show()\n",
    "\n"
   ],
   "id": "435c680b024e86b4",
   "outputs": [
    {
     "data": {
      "text/plain": [
       "<Figure size 1200x600 with 2 Axes>"
      ],
      "image/png": "[encoded data removed]"
     },
     "metadata": {},
     "output_type": "display_data"
    }
   ],
   "execution_count": 100
  },
  {
   "metadata": {
    "ExecuteTime": {
     "end_time": "2025-01-30T03:09:58.795846500Z",
     "start_time": "2025-01-28T04:12:40.979857Z"
    }
   },
   "cell_type": "code",
   "outputs": [
    {
     "name": "stdout",
     "output_type": "stream",
     "text": [
      "   Longitude   Latitude          datetime  UHI Index   Latitude  Longitude  \\\n",
      "0 -73.909167  40.813107  24-07-2021 15:53   1.030289  40.813106 -73.909136   \n",
      "1 -73.909187  40.813045  24-07-2021 15:53   1.030289  40.813017 -73.909226   \n",
      "2 -73.909215  40.812978  24-07-2021 15:53   1.023798  40.813017 -73.909226   \n",
      "3 -73.909242  40.812908  24-07-2021 15:53   1.023798  40.812927 -73.909226   \n",
      "4 -73.909257  40.812845  24-07-2021 15:53   1.021634  40.812837 -73.909226   \n",
      "\n",
      "               time  spatial_ref  B01   B02  ...   B05   B06   B07   B08  \\\n",
      "0  24-07-2021 15:49         4326  846  1042  ...  1272  1502  1605  1906   \n",
      "1  24-07-2021 15:49         4326  846   583  ...  1054  1668  2097  2190   \n",
      "2  24-07-2021 15:49         4326  846   583  ...  1054  1668  2097  2190   \n",
      "3  24-07-2021 15:49         4326  846   581  ...  1054  1668  2097  2182   \n",
      "4  24-07-2021 15:49         4326  846   655  ...  1021  1728  1943  2112   \n",
      "\n",
      "    B8A   B11   B12      NDVI      MNDWI  distance  \n",
      "0  1638  1487  1265  0.295717  25.796671  0.000031  \n",
      "1  2149  1465   991  0.510866  28.422689  0.000048  \n",
      "2  2149  1465   991  0.510866  28.422689  0.000040  \n",
      "3  2149  1465   991  0.537161  29.483167  0.000024  \n",
      "4  2056  1544  1134  0.478474  28.293706  0.000032  \n",
      "\n",
      "[5 rows x 22 columns]\n"
     ]
    }
   ],
   "execution_count": 106,
   "source": [
    "# Function to extract features for a point from a pandas DataFrame\n",
    "def extract_features_from_dataframe(lat, lon, df_filtered):\n",
    "    # Calculate distances between the point and all rows in df_filtered\n",
    "    df_filtered[\"distance\"] = np.sqrt(\n",
    "        (df_filtered[\"Latitude\"] - lat) ** 2 + (df_filtered[\"Longitude\"] - lon) ** 2\n",
    "    )\n",
    "    # Find the closest point\n",
    "    closest_row = df_filtered.loc[df_filtered[\"distance\"].idxmin()]\n",
    "    # Return the feature values as a dictionary\n",
    "    return closest_row.to_dict()\n",
    "\n",
    "# Rename columns to match if needed\n",
    "df_filtered.rename(columns={\"latitude\": \"Latitude\", \"longitude\": \"Longitude\"}, inplace=True)\n",
    "\n",
    "# Iterate over training_data and extract features\n",
    "features = []\n",
    "for _, row in training_data.iterrows():\n",
    "    lat, lon = row[\"Latitude\"], row[\"Longitude\"]\n",
    "    features.append(extract_features_from_dataframe(lat, lon, df_filtered))\n",
    "\n",
    "# Combine extracted features with training_data\n",
    "extracted_features = pd.DataFrame(features)\n",
    "training_data_with_features = pd.concat([training_data.reset_index(drop=True), extracted_features.reset_index(drop=True)], axis=1)\n",
    "\n",
    "# Save the enhanced training data to a CSV file\n",
    "training_data_with_features.to_csv(\"../data_test/training_data_with_features.csv\", index=False) if not os.path.exists(\"../data_test/training_data_with_features.csv\") else None"
   ],
   "id": "ebff05dbdcee2e35"
  },
  {
   "metadata": {
    "ExecuteTime": {
     "end_time": "2025-01-30T03:09:58.797849900Z",
     "start_time": "2025-01-28T14:38:13.879672Z"
    }
   },
   "cell_type": "code",
   "source": [
    "from scipy.ndimage import uniform_filter\n",
    "import xarray as xr\n",
    "\n",
    "# Define a function to calculate mean values within a radius\n",
    "def compute_radius_mean(array, radius=10):\n",
    "    kernel_size = int(radius / (10 / 111320))  # Convert radius (meters) to pixel size\n",
    "    return uniform_filter(array, size=kernel_size, mode=\"constant\")\n",
    "\n",
    "training_data_with_features[\"NDVI_mean_10m\"] = compute_radius_mean(training_data_with_features[\"NDVI\"].values, radius=10)\n",
    "training_data_with_features[\"NDVI_mean_50m\"] = (\n",
    "    compute_radius_mean(training_data_with_features[\"NDVI\"].values, radius=50)\n",
    "    - training_data_with_features[\"NDVI_mean_10m\"]\n",
    ")\n",
    "training_data_with_features[\"NDVI_mean_100m\"] = (\n",
    "    compute_radius_mean(training_data_with_features[\"NDVI\"].values, radius=100)\n",
    "    - training_data_with_features[\"NDVI_mean_50m\"]\n",
    ")\n",
    "\n",
    "# Calculate MNDWI mean for different radii\n",
    "training_data_with_features[\"MNDWI_mean_10m\"] = compute_radius_mean(training_data_with_features[\"MNDWI\"].values, radius=10)\n",
    "training_data_with_features[\"MNDWI_mean_50m\"] = (\n",
    "    compute_radius_mean(training_data_with_features[\"MNDWI\"].values, radius=50)\n",
    "    - training_data_with_features[\"MNDWI_mean_10m\"]\n",
    ")\n",
    "training_data_with_features[\"MNDWI_mean_100m\"] = (\n",
    "    compute_radius_mean(training_data_with_features[\"MNDWI\"].values, radius=100)\n",
    "    - training_data_with_features[\"MNDWI_mean_50m\"]\n",
    ")\n",
    "\n",
    "# Save to CSV\n",
    "# training_data_with_features.to_csv(\"../data_test/training_data_with_features.csv\", index=False) if not os.path.exists(\"../data_test/training_data_with_features.csv\") else None\n"
   ],
   "id": "4c223056d226f07f",
   "outputs": [],
   "execution_count": 132
  },
  {
   "metadata": {
    "ExecuteTime": {
     "end_time": "2025-01-30T03:09:58.797849900Z",
     "start_time": "2025-01-28T15:37:46.218880Z"
    }
   },
   "cell_type": "code",
   "source": "training_data_with_features",
   "id": "280c39ed6f4b67aa",
   "outputs": [
    {
     "data": {
      "text/plain": [
       "       Longitude   Latitude          datetime  UHI Index   Latitude  \\\n",
       "0     -73.909167  40.813107  24-07-2021 15:53   1.030289  40.813106   \n",
       "1     -73.909187  40.813045  24-07-2021 15:53   1.030289  40.813017   \n",
       "2     -73.909215  40.812978  24-07-2021 15:53   1.023798  40.813017   \n",
       "3     -73.909242  40.812908  24-07-2021 15:53   1.023798  40.812927   \n",
       "4     -73.909257  40.812845  24-07-2021 15:53   1.021634  40.812837   \n",
       "...          ...        ...               ...        ...        ...   \n",
       "11224 -73.957050  40.790333  24-07-2021 15:57   0.972470  40.790289   \n",
       "11225 -73.957063  40.790308  24-07-2021 15:57   0.972470  40.790289   \n",
       "11226 -73.957093  40.790270  24-07-2021 15:57   0.981124  40.790289   \n",
       "11227 -73.957112  40.790253  24-07-2021 15:59   0.981245  40.790289   \n",
       "11228 -73.957128  40.790237  24-07-2021 15:59   0.983408  40.790199   \n",
       "\n",
       "       Longitude              time  spatial_ref  B01   B02  ...  \\\n",
       "0     -73.909136  24-07-2021 15:49         4326  846  1042  ...   \n",
       "1     -73.909226  24-07-2021 15:49         4326  846   583  ...   \n",
       "2     -73.909226  24-07-2021 15:49         4326  846   583  ...   \n",
       "3     -73.909226  24-07-2021 15:49         4326  846   581  ...   \n",
       "4     -73.909226  24-07-2021 15:49         4326  846   655  ...   \n",
       "...          ...               ...          ...  ...   ...  ...   \n",
       "11224 -73.957016  24-07-2021 15:49         4326  481   747  ...   \n",
       "11225 -73.957106  24-07-2021 15:49         4326  481   540  ...   \n",
       "11226 -73.957106  24-07-2021 15:49         4326  481   540  ...   \n",
       "11227 -73.957106  24-07-2021 15:49         4326  481   540  ...   \n",
       "11228 -73.957106  24-07-2021 15:49         4326  481   607  ...   \n",
       "\n",
       "       NDVI_mean_100m  MNDWI_mean_10m  MNDWI_mean_50m  MNDWI_mean_100m  \\\n",
       "0            0.306816        1.928807       -1.543045         1.735926   \n",
       "1            0.306816        1.928807       -1.543045         1.735926   \n",
       "2            0.306816        1.928807       -1.543045         1.735926   \n",
       "3            0.306816        1.928807       -1.543045         1.735926   \n",
       "4            0.306816        1.928807       -1.543045         1.735926   \n",
       "...               ...             ...             ...              ...   \n",
       "11224        0.306816        1.928807       -1.543045         1.735926   \n",
       "11225        0.306816        1.928807       -1.543045         1.735926   \n",
       "11226        0.306816        1.928807       -1.543045         1.735926   \n",
       "11227        0.306816        1.928807       -1.543045         1.735926   \n",
       "11228        0.306816        1.928807       -1.543045         1.735926   \n",
       "\n",
       "       NDVI_count_10m  NDVI_count_50m  NDVI_count_100m  MNDWI_count_10m  \\\n",
       "0              4472.0             0.0           4472.0          11225.0   \n",
       "1              4472.0             0.0           4472.0          11225.0   \n",
       "2              4472.0             0.0           4472.0          11225.0   \n",
       "3              4472.0             0.0           4472.0          11225.0   \n",
       "4              4472.0             0.0           4472.0          11225.0   \n",
       "...               ...             ...              ...              ...   \n",
       "11224          4472.0             0.0           4472.0          11225.0   \n",
       "11225          4472.0             0.0           4472.0          11225.0   \n",
       "11226          4472.0             0.0           4472.0          11225.0   \n",
       "11227          4472.0             0.0           4472.0          11225.0   \n",
       "11228          4472.0             0.0           4472.0          11225.0   \n",
       "\n",
       "       MNDWI_count_50m  MNDWI_count_100m  \n",
       "0                  0.0           11225.0  \n",
       "1                  0.0           11225.0  \n",
       "2                  0.0           11225.0  \n",
       "3                  0.0           11225.0  \n",
       "4                  0.0           11225.0  \n",
       "...                ...               ...  \n",
       "11224              0.0           11225.0  \n",
       "11225              0.0           11225.0  \n",
       "11226              0.0           11225.0  \n",
       "11227              0.0           11225.0  \n",
       "11228              0.0           11225.0  \n",
       "\n",
       "[11229 rows x 34 columns]"
      ],
      "text/html": [
       "<div>\n",
       "<style scoped>\n",
       "    .dataframe tbody tr th:only-of-type {\n",
       "        vertical-align: middle;\n",
       "    }\n",
       "\n",
       "    .dataframe tbody tr th {\n",
       "        vertical-align: top;\n",
       "    }\n",
       "\n",
       "    .dataframe thead th {\n",
       "        text-align: right;\n",
       "    }\n",
       "</style>\n",
       "<table border=\"1\" class=\"dataframe\">\n",
       "  <thead>\n",
       "    <tr style=\"text-align: right;\">\n",
       "      <th></th>\n",
       "      <th>Longitude</th>\n",
       "      <th>Latitude</th>\n",
       "      <th>datetime</th>\n",
       "      <th>UHI Index</th>\n",
       "      <th>Latitude</th>\n",
       "      <th>Longitude</th>\n",
       "      <th>time</th>\n",
       "      <th>spatial_ref</th>\n",
       "      <th>B01</th>\n",
       "      <th>B02</th>\n",
       "      <th>...</th>\n",
       "      <th>NDVI_mean_100m</th>\n",
       "      <th>MNDWI_mean_10m</th>\n",
       "      <th>MNDWI_mean_50m</th>\n",
       "      <th>MNDWI_mean_100m</th>\n",
       "      <th>NDVI_count_10m</th>\n",
       "      <th>NDVI_count_50m</th>\n",
       "      <th>NDVI_count_100m</th>\n",
       "      <th>MNDWI_count_10m</th>\n",
       "      <th>MNDWI_count_50m</th>\n",
       "      <th>MNDWI_count_100m</th>\n",
       "    </tr>\n",
       "  </thead>\n",
       "  <tbody>\n",
       "    <tr>\n",
       "      <th>0</th>\n",
       "      <td>-73.909167</td>\n",
       "      <td>40.813107</td>\n",
       "      <td>24-07-2021 15:53</td>\n",
       "      <td>1.030289</td>\n",
       "      <td>40.813106</td>\n",
       "      <td>-73.909136</td>\n",
       "      <td>24-07-2021 15:49</td>\n",
       "      <td>4326</td>\n",
       "      <td>846</td>\n",
       "      <td>1042</td>\n",
       "      <td>...</td>\n",
       "      <td>0.306816</td>\n",
       "      <td>1.928807</td>\n",
       "      <td>-1.543045</td>\n",
       "      <td>1.735926</td>\n",
       "      <td>4472.0</td>\n",
       "      <td>0.0</td>\n",
       "      <td>4472.0</td>\n",
       "      <td>11225.0</td>\n",
       "      <td>0.0</td>\n",
       "      <td>11225.0</td>\n",
       "    </tr>\n",
       "    <tr>\n",
       "      <th>1</th>\n",
       "      <td>-73.909187</td>\n",
       "      <td>40.813045</td>\n",
       "      <td>24-07-2021 15:53</td>\n",
       "      <td>1.030289</td>\n",
       "      <td>40.813017</td>\n",
       "      <td>-73.909226</td>\n",
       "      <td>24-07-2021 15:49</td>\n",
       "      <td>4326</td>\n",
       "      <td>846</td>\n",
       "      <td>583</td>\n",
       "      <td>...</td>\n",
       "      <td>0.306816</td>\n",
       "      <td>1.928807</td>\n",
       "      <td>-1.543045</td>\n",
       "      <td>1.735926</td>\n",
       "      <td>4472.0</td>\n",
       "      <td>0.0</td>\n",
       "      <td>4472.0</td>\n",
       "      <td>11225.0</td>\n",
       "      <td>0.0</td>\n",
       "      <td>11225.0</td>\n",
       "    </tr>\n",
       "    <tr>\n",
       "      <th>2</th>\n",
       "      <td>-73.909215</td>\n",
       "      <td>40.812978</td>\n",
       "      <td>24-07-2021 15:53</td>\n",
       "      <td>1.023798</td>\n",
       "      <td>40.813017</td>\n",
       "      <td>-73.909226</td>\n",
       "      <td>24-07-2021 15:49</td>\n",
       "      <td>4326</td>\n",
       "      <td>846</td>\n",
       "      <td>583</td>\n",
       "      <td>...</td>\n",
       "      <td>0.306816</td>\n",
       "      <td>1.928807</td>\n",
       "      <td>-1.543045</td>\n",
       "      <td>1.735926</td>\n",
       "      <td>4472.0</td>\n",
       "      <td>0.0</td>\n",
       "      <td>4472.0</td>\n",
       "      <td>11225.0</td>\n",
       "      <td>0.0</td>\n",
       "      <td>11225.0</td>\n",
       "    </tr>\n",
       "    <tr>\n",
       "      <th>3</th>\n",
       "      <td>-73.909242</td>\n",
       "      <td>40.812908</td>\n",
       "      <td>24-07-2021 15:53</td>\n",
       "      <td>1.023798</td>\n",
       "      <td>40.812927</td>\n",
       "      <td>-73.909226</td>\n",
       "      <td>24-07-2021 15:49</td>\n",
       "      <td>4326</td>\n",
       "      <td>846</td>\n",
       "      <td>581</td>\n",
       "      <td>...</td>\n",
       "      <td>0.306816</td>\n",
       "      <td>1.928807</td>\n",
       "      <td>-1.543045</td>\n",
       "      <td>1.735926</td>\n",
       "      <td>4472.0</td>\n",
       "      <td>0.0</td>\n",
       "      <td>4472.0</td>\n",
       "      <td>11225.0</td>\n",
       "      <td>0.0</td>\n",
       "      <td>11225.0</td>\n",
       "    </tr>\n",
       "    <tr>\n",
       "      <th>4</th>\n",
       "      <td>-73.909257</td>\n",
       "      <td>40.812845</td>\n",
       "      <td>24-07-2021 15:53</td>\n",
       "      <td>1.021634</td>\n",
       "      <td>40.812837</td>\n",
       "      <td>-73.909226</td>\n",
       "      <td>24-07-2021 15:49</td>\n",
       "      <td>4326</td>\n",
       "      <td>846</td>\n",
       "      <td>655</td>\n",
       "      <td>...</td>\n",
       "      <td>0.306816</td>\n",
       "      <td>1.928807</td>\n",
       "      <td>-1.543045</td>\n",
       "      <td>1.735926</td>\n",
       "      <td>4472.0</td>\n",
       "      <td>0.0</td>\n",
       "      <td>4472.0</td>\n",
       "      <td>11225.0</td>\n",
       "      <td>0.0</td>\n",
       "      <td>11225.0</td>\n",
       "    </tr>\n",
       "    <tr>\n",
       "      <th>...</th>\n",
       "      <td>...</td>\n",
       "      <td>...</td>\n",
       "      <td>...</td>\n",
       "      <td>...</td>\n",
       "      <td>...</td>\n",
       "      <td>...</td>\n",
       "      <td>...</td>\n",
       "      <td>...</td>\n",
       "      <td>...</td>\n",
       "      <td>...</td>\n",
       "      <td>...</td>\n",
       "      <td>...</td>\n",
       "      <td>...</td>\n",
       "      <td>...</td>\n",
       "      <td>...</td>\n",
       "      <td>...</td>\n",
       "      <td>...</td>\n",
       "      <td>...</td>\n",
       "      <td>...</td>\n",
       "      <td>...</td>\n",
       "      <td>...</td>\n",
       "    </tr>\n",
       "    <tr>\n",
       "      <th>11224</th>\n",
       "      <td>-73.957050</td>\n",
       "      <td>40.790333</td>\n",
       "      <td>24-07-2021 15:57</td>\n",
       "      <td>0.972470</td>\n",
       "      <td>40.790289</td>\n",
       "      <td>-73.957016</td>\n",
       "      <td>24-07-2021 15:49</td>\n",
       "      <td>4326</td>\n",
       "      <td>481</td>\n",
       "      <td>747</td>\n",
       "      <td>...</td>\n",
       "      <td>0.306816</td>\n",
       "      <td>1.928807</td>\n",
       "      <td>-1.543045</td>\n",
       "      <td>1.735926</td>\n",
       "      <td>4472.0</td>\n",
       "      <td>0.0</td>\n",
       "      <td>4472.0</td>\n",
       "      <td>11225.0</td>\n",
       "      <td>0.0</td>\n",
       "      <td>11225.0</td>\n",
       "    </tr>\n",
       "    <tr>\n",
       "      <th>11225</th>\n",
       "      <td>-73.957063</td>\n",
       "      <td>40.790308</td>\n",
       "      <td>24-07-2021 15:57</td>\n",
       "      <td>0.972470</td>\n",
       "      <td>40.790289</td>\n",
       "      <td>-73.957106</td>\n",
       "      <td>24-07-2021 15:49</td>\n",
       "      <td>4326</td>\n",
       "      <td>481</td>\n",
       "      <td>540</td>\n",
       "      <td>...</td>\n",
       "      <td>0.306816</td>\n",
       "      <td>1.928807</td>\n",
       "      <td>-1.543045</td>\n",
       "      <td>1.735926</td>\n",
       "      <td>4472.0</td>\n",
       "      <td>0.0</td>\n",
       "      <td>4472.0</td>\n",
       "      <td>11225.0</td>\n",
       "      <td>0.0</td>\n",
       "      <td>11225.0</td>\n",
       "    </tr>\n",
       "    <tr>\n",
       "      <th>11226</th>\n",
       "      <td>-73.957093</td>\n",
       "      <td>40.790270</td>\n",
       "      <td>24-07-2021 15:57</td>\n",
       "      <td>0.981124</td>\n",
       "      <td>40.790289</td>\n",
       "      <td>-73.957106</td>\n",
       "      <td>24-07-2021 15:49</td>\n",
       "      <td>4326</td>\n",
       "      <td>481</td>\n",
       "      <td>540</td>\n",
       "      <td>...</td>\n",
       "      <td>0.306816</td>\n",
       "      <td>1.928807</td>\n",
       "      <td>-1.543045</td>\n",
       "      <td>1.735926</td>\n",
       "      <td>4472.0</td>\n",
       "      <td>0.0</td>\n",
       "      <td>4472.0</td>\n",
       "      <td>11225.0</td>\n",
       "      <td>0.0</td>\n",
       "      <td>11225.0</td>\n",
       "    </tr>\n",
       "    <tr>\n",
       "      <th>11227</th>\n",
       "      <td>-73.957112</td>\n",
       "      <td>40.790253</td>\n",
       "      <td>24-07-2021 15:59</td>\n",
       "      <td>0.981245</td>\n",
       "      <td>40.790289</td>\n",
       "      <td>-73.957106</td>\n",
       "      <td>24-07-2021 15:49</td>\n",
       "      <td>4326</td>\n",
       "      <td>481</td>\n",
       "      <td>540</td>\n",
       "      <td>...</td>\n",
       "      <td>0.306816</td>\n",
       "      <td>1.928807</td>\n",
       "      <td>-1.543045</td>\n",
       "      <td>1.735926</td>\n",
       "      <td>4472.0</td>\n",
       "      <td>0.0</td>\n",
       "      <td>4472.0</td>\n",
       "      <td>11225.0</td>\n",
       "      <td>0.0</td>\n",
       "      <td>11225.0</td>\n",
       "    </tr>\n",
       "    <tr>\n",
       "      <th>11228</th>\n",
       "      <td>-73.957128</td>\n",
       "      <td>40.790237</td>\n",
       "      <td>24-07-2021 15:59</td>\n",
       "      <td>0.983408</td>\n",
       "      <td>40.790199</td>\n",
       "      <td>-73.957106</td>\n",
       "      <td>24-07-2021 15:49</td>\n",
       "      <td>4326</td>\n",
       "      <td>481</td>\n",
       "      <td>607</td>\n",
       "      <td>...</td>\n",
       "      <td>0.306816</td>\n",
       "      <td>1.928807</td>\n",
       "      <td>-1.543045</td>\n",
       "      <td>1.735926</td>\n",
       "      <td>4472.0</td>\n",
       "      <td>0.0</td>\n",
       "      <td>4472.0</td>\n",
       "      <td>11225.0</td>\n",
       "      <td>0.0</td>\n",
       "      <td>11225.0</td>\n",
       "    </tr>\n",
       "  </tbody>\n",
       "</table>\n",
       "<p>11229 rows × 34 columns</p>\n",
       "</div>"
      ]
     },
     "execution_count": 153,
     "metadata": {},
     "output_type": "execute_result"
    }
   ],
   "execution_count": 153
  },
  {
   "metadata": {},
   "cell_type": "code",
   "outputs": [],
   "execution_count": null,
   "source": [
    "import matplotlib.pyplot as plt\n",
    "\n",
    "# List of count columns to plot\n",
    "count_columns = [\n",
    "    \"NDVI_count_10m\", \"NDVI_count_50m\", \"NDVI_count_100m\",\n",
    "    \"MNDWI_count_10m\", \"MNDWI_count_50m\", \"MNDWI_count_100m\"\n",
    "]\n",
    "\n",
    "# Define the grid size for subplots\n",
    "n_cols = 3\n",
    "n_rows = -(-len(count_columns) // n_cols)  # Ceiling division\n",
    "\n",
    "# Create the figure\n",
    "fig, axes = plt.subplots(n_rows, n_cols, figsize=(15, 10))\n",
    "axes = axes.flatten()\n",
    "\n",
    "# Plot each histogram\n",
    "for i, col in enumerate(count_columns):\n",
    "    ax = axes[i]\n",
    "    training_data_with_features[col].plot.hist(ax=ax, bins=30, alpha=0.7, edgecolor='black')\n",
    "    ax.set_title(f\"Histogram of {col}\")\n",
    "    ax.set_xlabel(\"Count\")\n",
    "    ax.set_ylabel(\"Frequency\")\n",
    "\n",
    "# Hide any empty subplots\n",
    "for j in range(len(count_columns), len(axes)):\n",
    "    axes[j].set_visible(False)\n",
    "\n",
    "# Adjust layout\n",
    "plt.tight_layout()\n",
    "plt.show()\n"
   ],
   "id": "a32834a27d9459c1"
  },
  {
   "metadata": {
    "ExecuteTime": {
     "end_time": "2025-01-30T03:09:58.797849900Z",
     "start_time": "2025-01-28T15:11:32.694549Z"
    }
   },
   "cell_type": "code",
   "source": "training_data_with_features.to_csv(\"../data_test/training_data_with_features&counts.csv\", index=False) if not os.path.exists(\"../data_test/training_data_with_features&counts.csv\") else None",
   "id": "a864206bfcd18129",
   "outputs": [],
   "execution_count": 143
  },
  {
   "metadata": {},
   "cell_type": "markdown",
   "source": "# LOADING DATA",
   "id": "45b4972c5be56dd4"
  },
  {
   "metadata": {},
   "cell_type": "code",
   "outputs": [],
   "execution_count": null,
   "source": [
    "# Load the training data from csv file and display the first few rows to inspect the data\n",
    "training_data = pd.read_csv(\"Training_data_uhi_index.csv\")\n",
    "training_data.head()"
   ],
   "id": "9419b191816cf01f"
  },
  {
   "metadata": {
    "ExecuteTime": {
     "end_time": "2025-01-30T03:09:58.797849900Z",
     "start_time": "2025-01-28T13:41:08.948923Z"
    }
   },
   "cell_type": "code",
   "source": [
    "# Define the bounding box for the entire data region using (Latitude, Longitude)\n",
    "# This is the region of New York City that contains our temperature dataset\n",
    "lower_left = (40.75, -74.01)\n",
    "upper_right = (40.88, -73.86)"
   ],
   "id": "32b6a7fde18bc956",
   "outputs": [],
   "execution_count": 107
  },
  {
   "metadata": {
    "ExecuteTime": {
     "end_time": "2025-01-30T03:09:58.797849900Z",
     "start_time": "2025-01-28T13:41:09.305943Z"
    }
   },
   "cell_type": "code",
   "source": [
    "# Calculate the bounds for doing an archive data search\n",
    "# bounds = (min_lon, min_lat, max_lon, max_lat)\n",
    "bounds = (lower_left[1], lower_left[0], upper_right[1], upper_right[0])"
   ],
   "id": "b620cb044198c99d",
   "outputs": [],
   "execution_count": 108
  },
  {
   "metadata": {
    "ExecuteTime": {
     "end_time": "2025-01-30T03:09:58.797849900Z",
     "start_time": "2025-01-28T13:41:09.542746Z"
    }
   },
   "cell_type": "code",
   "source": [
    "# Define the time window\n",
    "time_window = \"2021-06-01/2021-09-01\""
   ],
   "id": "4a4727506f42cfde",
   "outputs": [],
   "execution_count": 109
  },
  {
   "metadata": {
    "ExecuteTime": {
     "end_time": "2025-01-30T03:09:58.797849900Z",
     "start_time": "2025-01-28T13:41:12.332239Z"
    }
   },
   "cell_type": "code",
   "source": [
    "stac = pystac_client.Client.open(\"https://planetarycomputer.microsoft.com/api/stac/v1\")\n",
    "\n",
    "search = stac.search(\n",
    "    bbox=bounds,\n",
    "    datetime=time_window,\n",
    "    collections=[\"sentinel-2-l2a\"],\n",
    "    query={\"eo:cloud_cover\": {\"lt\": 30}},\n",
    ")"
   ],
   "id": "907079862aa99aef",
   "outputs": [],
   "execution_count": 110
  },
  {
   "metadata": {
    "ExecuteTime": {
     "end_time": "2025-01-30T03:09:58.797849900Z",
     "start_time": "2025-01-28T13:41:14.756537Z"
    }
   },
   "cell_type": "code",
   "source": [
    "items = list(search.get_items())\n",
    "print('This is the number of scenes that touch our region:',len(items))"
   ],
   "id": "c2c08e4a7f32d10b",
   "outputs": [
    {
     "name": "stdout",
     "output_type": "stream",
     "text": [
      "This is the number of scenes that touch our region: 10\n"
     ]
    }
   ],
   "execution_count": 111
  },
  {
   "metadata": {
    "ExecuteTime": {
     "end_time": "2025-01-30T03:09:58.797849900Z",
     "start_time": "2025-01-28T13:41:30.074690Z"
    }
   },
   "cell_type": "code",
   "source": "signed_items = [planetary_computer.sign(item).to_dict() for item in items]",
   "id": "9d60611cfeb270d7",
   "outputs": [],
   "execution_count": 112
  },
  {
   "metadata": {
    "ExecuteTime": {
     "end_time": "2025-01-30T03:09:58.797849900Z",
     "start_time": "2025-01-28T13:41:31.028868Z"
    }
   },
   "cell_type": "code",
   "source": [
    "# Define the pixel resolution for the final product\n",
    "# Define the scale according to our selected crs, so we will use degrees\n",
    "resolution = 10  # meters per pixel\n",
    "scale = resolution / 111320.0 # degrees per pixel for crs=4326"
   ],
   "id": "7ed7ead9d6c61c25",
   "outputs": [],
   "execution_count": 113
  },
  {
   "metadata": {
    "ExecuteTime": {
     "end_time": "2025-01-30T03:09:58.797849900Z",
     "start_time": "2025-01-28T13:41:31.061775Z"
    }
   },
   "cell_type": "code",
   "source": [
    "data = stac_load(\n",
    "    items,\n",
    "    bands=[\"B01\", \"B02\", \"B03\", \"B04\", \"B05\", \"B06\", \"B07\", \"B08\", \"B8A\", \"B11\", \"B12\"],\n",
    "    crs=\"EPSG:4326\",  # Latitude-Longitude\n",
    "    resolution=scale,  # Degrees\n",
    "    chunks={\"x\": 2048, \"y\": 2048},\n",
    "    dtype=\"uint16\",\n",
    "    patch_url=planetary_computer.sign,\n",
    "    bbox=bounds\n",
    ")"
   ],
   "id": "dac20245e842eb8f",
   "outputs": [],
   "execution_count": 114
  },
  {
   "metadata": {
    "ExecuteTime": {
     "end_time": "2025-01-30T03:09:58.797849900Z",
     "start_time": "2025-01-28T14:03:24.977405Z"
    }
   },
   "cell_type": "code",
   "source": [
    "from tqdm import tqdm\n",
    "\n",
    "# Extract latitudes and longitudes from training_data\n",
    "latitudes = training_data[\"Latitude\"].values\n",
    "longitudes = training_data[\"Longitude\"].values\n",
    "\n",
    "# Initialize lists to store extracted band values\n",
    "B01_values, B04_values, B06_values, B08_values = [], [], [], []\n",
    "\n",
    "# Loop through each latitude and longitude\n",
    "for lat, lon in tqdm(zip(latitudes, longitudes), total=len(latitudes), desc=\"Mapping values\"):\n",
    "    # Extract values for each band using the correct dimensions\n",
    "    B01_value = data[\"B01\"].sel(longitude=lon, latitude=lat, method=\"nearest\").values\n",
    "    B01_values.append(B01_value)\n",
    "\n",
    "    B04_value = data[\"B04\"].sel(longitude=lon, latitude=lat, method=\"nearest\").values\n",
    "    B04_values.append(B04_value)\n",
    "\n",
    "    B06_value = data[\"B06\"].sel(longitude=lon, latitude=lat, method=\"nearest\").values\n",
    "    B06_values.append(B06_value)\n",
    "\n",
    "    B08_value = data[\"B08\"].sel(longitude=lon, latitude=lat, method=\"nearest\").values\n",
    "    B08_values.append(B08_value)\n",
    "\n",
    "# Add extracted band values to the training_data DataFrame\n",
    "training_data[\"B01\"] = B01_values\n",
    "training_data[\"B04\"] = B04_values\n",
    "training_data[\"B06\"] = B06_values\n",
    "training_data[\"B08\"] = B08_values\n",
    "\n",
    "# Save the updated DataFrame to a CSV file\n",
    "training_data.to_csv(\"training_data_with_selected_bands.csv\", index=False)\n",
    "\n",
    "# Display the result\n",
    "print(training_data.head())\n"
   ],
   "id": "bbcf99d7b3ceae9c",
   "outputs": [
    {
     "name": "stderr",
     "output_type": "stream",
     "text": [
      "Mapping values:   0%|          | 13/11229 [01:30<21:44:21,  6.98s/it]\n"
     ]
    },
    {
     "ename": "KeyboardInterrupt",
     "evalue": "",
     "output_type": "error",
     "traceback": [
      "\u001B[1;31m---------------------------------------------------------------------------\u001B[0m",
      "\u001B[1;31mKeyboardInterrupt\u001B[0m                         Traceback (most recent call last)",
      "Cell \u001B[1;32mIn[125], line 22\u001B[0m\n\u001B[0;32m     19\u001B[0m     B06_value \u001B[38;5;241m=\u001B[39m data[\u001B[38;5;124m\"\u001B[39m\u001B[38;5;124mB06\u001B[39m\u001B[38;5;124m\"\u001B[39m]\u001B[38;5;241m.\u001B[39msel(longitude\u001B[38;5;241m=\u001B[39mlon, latitude\u001B[38;5;241m=\u001B[39mlat, method\u001B[38;5;241m=\u001B[39m\u001B[38;5;124m\"\u001B[39m\u001B[38;5;124mnearest\u001B[39m\u001B[38;5;124m\"\u001B[39m)\u001B[38;5;241m.\u001B[39mvalues\n\u001B[0;32m     20\u001B[0m     B06_values\u001B[38;5;241m.\u001B[39mappend(B06_value)\n\u001B[1;32m---> 22\u001B[0m     B08_value \u001B[38;5;241m=\u001B[39m \u001B[43mdata\u001B[49m\u001B[43m[\u001B[49m\u001B[38;5;124;43m\"\u001B[39;49m\u001B[38;5;124;43mB08\u001B[39;49m\u001B[38;5;124;43m\"\u001B[39;49m\u001B[43m]\u001B[49m\u001B[38;5;241;43m.\u001B[39;49m\u001B[43msel\u001B[49m\u001B[43m(\u001B[49m\u001B[43mlongitude\u001B[49m\u001B[38;5;241;43m=\u001B[39;49m\u001B[43mlon\u001B[49m\u001B[43m,\u001B[49m\u001B[43m \u001B[49m\u001B[43mlatitude\u001B[49m\u001B[38;5;241;43m=\u001B[39;49m\u001B[43mlat\u001B[49m\u001B[43m,\u001B[49m\u001B[43m \u001B[49m\u001B[43mmethod\u001B[49m\u001B[38;5;241;43m=\u001B[39;49m\u001B[38;5;124;43m\"\u001B[39;49m\u001B[38;5;124;43mnearest\u001B[39;49m\u001B[38;5;124;43m\"\u001B[39;49m\u001B[43m)\u001B[49m\u001B[38;5;241;43m.\u001B[39;49m\u001B[43mvalues\u001B[49m\n\u001B[0;32m     23\u001B[0m     B08_values\u001B[38;5;241m.\u001B[39mappend(B08_value)\n\u001B[0;32m     25\u001B[0m \u001B[38;5;66;03m# Add extracted band values to the training_data DataFrame\u001B[39;00m\n",
      "File \u001B[1;32m~\\PycharmProjects\\EY_DataChallenge_2025\\.venv\\lib\\site-packages\\xarray\\core\\dataarray.py:814\u001B[0m, in \u001B[0;36mDataArray.values\u001B[1;34m(self)\u001B[0m\n\u001B[0;32m    801\u001B[0m \u001B[38;5;129m@property\u001B[39m\n\u001B[0;32m    802\u001B[0m \u001B[38;5;28;01mdef\u001B[39;00m\u001B[38;5;250m \u001B[39m\u001B[38;5;21mvalues\u001B[39m(\u001B[38;5;28mself\u001B[39m) \u001B[38;5;241m-\u001B[39m\u001B[38;5;241m>\u001B[39m np\u001B[38;5;241m.\u001B[39mndarray:\n\u001B[0;32m    803\u001B[0m \u001B[38;5;250m    \u001B[39m\u001B[38;5;124;03m\"\"\"\u001B[39;00m\n\u001B[0;32m    804\u001B[0m \u001B[38;5;124;03m    The array's data converted to numpy.ndarray.\u001B[39;00m\n\u001B[0;32m    805\u001B[0m \n\u001B[1;32m   (...)\u001B[0m\n\u001B[0;32m    812\u001B[0m \u001B[38;5;124;03m    to this array may be reflected in the DataArray as well.\u001B[39;00m\n\u001B[0;32m    813\u001B[0m \u001B[38;5;124;03m    \"\"\"\u001B[39;00m\n\u001B[1;32m--> 814\u001B[0m     \u001B[38;5;28;01mreturn\u001B[39;00m \u001B[38;5;28;43mself\u001B[39;49m\u001B[38;5;241;43m.\u001B[39;49m\u001B[43mvariable\u001B[49m\u001B[38;5;241;43m.\u001B[39;49m\u001B[43mvalues\u001B[49m\n",
      "File \u001B[1;32m~\\PycharmProjects\\EY_DataChallenge_2025\\.venv\\lib\\site-packages\\xarray\\core\\variable.py:565\u001B[0m, in \u001B[0;36mVariable.values\u001B[1;34m(self)\u001B[0m\n\u001B[0;32m    562\u001B[0m \u001B[38;5;129m@property\u001B[39m\n\u001B[0;32m    563\u001B[0m \u001B[38;5;28;01mdef\u001B[39;00m\u001B[38;5;250m \u001B[39m\u001B[38;5;21mvalues\u001B[39m(\u001B[38;5;28mself\u001B[39m) \u001B[38;5;241m-\u001B[39m\u001B[38;5;241m>\u001B[39m np\u001B[38;5;241m.\u001B[39mndarray:\n\u001B[0;32m    564\u001B[0m \u001B[38;5;250m    \u001B[39m\u001B[38;5;124;03m\"\"\"The variable's data as a numpy.ndarray\"\"\"\u001B[39;00m\n\u001B[1;32m--> 565\u001B[0m     \u001B[38;5;28;01mreturn\u001B[39;00m \u001B[43m_as_array_or_item\u001B[49m\u001B[43m(\u001B[49m\u001B[38;5;28;43mself\u001B[39;49m\u001B[38;5;241;43m.\u001B[39;49m\u001B[43m_data\u001B[49m\u001B[43m)\u001B[49m\n",
      "File \u001B[1;32m~\\PycharmProjects\\EY_DataChallenge_2025\\.venv\\lib\\site-packages\\xarray\\core\\variable.py:362\u001B[0m, in \u001B[0;36m_as_array_or_item\u001B[1;34m(data)\u001B[0m\n\u001B[0;32m    348\u001B[0m \u001B[38;5;28;01mdef\u001B[39;00m\u001B[38;5;250m \u001B[39m\u001B[38;5;21m_as_array_or_item\u001B[39m(data):\n\u001B[0;32m    349\u001B[0m \u001B[38;5;250m    \u001B[39m\u001B[38;5;124;03m\"\"\"Return the given values as a numpy array, or as an individual item if\u001B[39;00m\n\u001B[0;32m    350\u001B[0m \u001B[38;5;124;03m    it's a 0d datetime64 or timedelta64 array.\u001B[39;00m\n\u001B[0;32m    351\u001B[0m \n\u001B[1;32m   (...)\u001B[0m\n\u001B[0;32m    360\u001B[0m \u001B[38;5;124;03m    TODO: remove this (replace with np.asarray) once these issues are fixed\u001B[39;00m\n\u001B[0;32m    361\u001B[0m \u001B[38;5;124;03m    \"\"\"\u001B[39;00m\n\u001B[1;32m--> 362\u001B[0m     data \u001B[38;5;241m=\u001B[39m \u001B[43mnp\u001B[49m\u001B[38;5;241;43m.\u001B[39;49m\u001B[43masarray\u001B[49m\u001B[43m(\u001B[49m\u001B[43mdata\u001B[49m\u001B[43m)\u001B[49m\n\u001B[0;32m    363\u001B[0m     \u001B[38;5;28;01mif\u001B[39;00m data\u001B[38;5;241m.\u001B[39mndim \u001B[38;5;241m==\u001B[39m \u001B[38;5;241m0\u001B[39m:\n\u001B[0;32m    364\u001B[0m         \u001B[38;5;28;01mif\u001B[39;00m data\u001B[38;5;241m.\u001B[39mdtype\u001B[38;5;241m.\u001B[39mkind \u001B[38;5;241m==\u001B[39m \u001B[38;5;124m\"\u001B[39m\u001B[38;5;124mM\u001B[39m\u001B[38;5;124m\"\u001B[39m:\n",
      "File \u001B[1;32m~\\PycharmProjects\\EY_DataChallenge_2025\\.venv\\lib\\site-packages\\dask\\array\\core.py:1717\u001B[0m, in \u001B[0;36mArray.__array__\u001B[1;34m(self, dtype, **kwargs)\u001B[0m\n\u001B[0;32m   1716\u001B[0m \u001B[38;5;28;01mdef\u001B[39;00m\u001B[38;5;250m \u001B[39m\u001B[38;5;21m__array__\u001B[39m(\u001B[38;5;28mself\u001B[39m, dtype\u001B[38;5;241m=\u001B[39m\u001B[38;5;28;01mNone\u001B[39;00m, \u001B[38;5;241m*\u001B[39m\u001B[38;5;241m*\u001B[39mkwargs):\n\u001B[1;32m-> 1717\u001B[0m     x \u001B[38;5;241m=\u001B[39m \u001B[38;5;28;43mself\u001B[39;49m\u001B[38;5;241;43m.\u001B[39;49m\u001B[43mcompute\u001B[49m\u001B[43m(\u001B[49m\u001B[43m)\u001B[49m\n\u001B[0;32m   1718\u001B[0m     \u001B[38;5;28;01mif\u001B[39;00m dtype \u001B[38;5;129;01mand\u001B[39;00m x\u001B[38;5;241m.\u001B[39mdtype \u001B[38;5;241m!=\u001B[39m dtype:\n\u001B[0;32m   1719\u001B[0m         x \u001B[38;5;241m=\u001B[39m x\u001B[38;5;241m.\u001B[39mastype(dtype)\n",
      "File \u001B[1;32m~\\PycharmProjects\\EY_DataChallenge_2025\\.venv\\lib\\site-packages\\dask\\base.py:374\u001B[0m, in \u001B[0;36mDaskMethodsMixin.compute\u001B[1;34m(self, **kwargs)\u001B[0m\n\u001B[0;32m    350\u001B[0m \u001B[38;5;28;01mdef\u001B[39;00m\u001B[38;5;250m \u001B[39m\u001B[38;5;21mcompute\u001B[39m(\u001B[38;5;28mself\u001B[39m, \u001B[38;5;241m*\u001B[39m\u001B[38;5;241m*\u001B[39mkwargs):\n\u001B[0;32m    351\u001B[0m \u001B[38;5;250m    \u001B[39m\u001B[38;5;124;03m\"\"\"Compute this dask collection\u001B[39;00m\n\u001B[0;32m    352\u001B[0m \n\u001B[0;32m    353\u001B[0m \u001B[38;5;124;03m    This turns a lazy Dask collection into its in-memory equivalent.\u001B[39;00m\n\u001B[1;32m   (...)\u001B[0m\n\u001B[0;32m    372\u001B[0m \u001B[38;5;124;03m    dask.compute\u001B[39;00m\n\u001B[0;32m    373\u001B[0m \u001B[38;5;124;03m    \"\"\"\u001B[39;00m\n\u001B[1;32m--> 374\u001B[0m     (result,) \u001B[38;5;241m=\u001B[39m compute(\u001B[38;5;28mself\u001B[39m, traverse\u001B[38;5;241m=\u001B[39m\u001B[38;5;28;01mFalse\u001B[39;00m, \u001B[38;5;241m*\u001B[39m\u001B[38;5;241m*\u001B[39mkwargs)\n\u001B[0;32m    375\u001B[0m     \u001B[38;5;28;01mreturn\u001B[39;00m result\n",
      "File \u001B[1;32m~\\PycharmProjects\\EY_DataChallenge_2025\\.venv\\lib\\site-packages\\dask\\base.py:662\u001B[0m, in \u001B[0;36mcompute\u001B[1;34m(traverse, optimize_graph, scheduler, get, *args, **kwargs)\u001B[0m\n\u001B[0;32m    659\u001B[0m     postcomputes\u001B[38;5;241m.\u001B[39mappend(x\u001B[38;5;241m.\u001B[39m__dask_postcompute__())\n\u001B[0;32m    661\u001B[0m \u001B[38;5;28;01mwith\u001B[39;00m shorten_traceback():\n\u001B[1;32m--> 662\u001B[0m     results \u001B[38;5;241m=\u001B[39m schedule(dsk, keys, \u001B[38;5;241m*\u001B[39m\u001B[38;5;241m*\u001B[39mkwargs)\n\u001B[0;32m    664\u001B[0m \u001B[38;5;28;01mreturn\u001B[39;00m repack([f(r, \u001B[38;5;241m*\u001B[39ma) \u001B[38;5;28;01mfor\u001B[39;00m r, (f, a) \u001B[38;5;129;01min\u001B[39;00m \u001B[38;5;28mzip\u001B[39m(results, postcomputes)])\n",
      "File \u001B[1;32m~\\AppData\\Local\\Programs\\Python\\Python310\\lib\\queue.py:180\u001B[0m, in \u001B[0;36mQueue.get\u001B[1;34m(self, block, timeout)\u001B[0m\n\u001B[0;32m    178\u001B[0m         \u001B[38;5;28;01mif\u001B[39;00m remaining \u001B[38;5;241m<\u001B[39m\u001B[38;5;241m=\u001B[39m \u001B[38;5;241m0.0\u001B[39m:\n\u001B[0;32m    179\u001B[0m             \u001B[38;5;28;01mraise\u001B[39;00m Empty\n\u001B[1;32m--> 180\u001B[0m         \u001B[38;5;28;43mself\u001B[39;49m\u001B[38;5;241;43m.\u001B[39;49m\u001B[43mnot_empty\u001B[49m\u001B[38;5;241;43m.\u001B[39;49m\u001B[43mwait\u001B[49m\u001B[43m(\u001B[49m\u001B[43mremaining\u001B[49m\u001B[43m)\u001B[49m\n\u001B[0;32m    181\u001B[0m item \u001B[38;5;241m=\u001B[39m \u001B[38;5;28mself\u001B[39m\u001B[38;5;241m.\u001B[39m_get()\n\u001B[0;32m    182\u001B[0m \u001B[38;5;28mself\u001B[39m\u001B[38;5;241m.\u001B[39mnot_full\u001B[38;5;241m.\u001B[39mnotify()\n",
      "File \u001B[1;32m~\\AppData\\Local\\Programs\\Python\\Python310\\lib\\threading.py:324\u001B[0m, in \u001B[0;36mCondition.wait\u001B[1;34m(self, timeout)\u001B[0m\n\u001B[0;32m    322\u001B[0m \u001B[38;5;28;01melse\u001B[39;00m:\n\u001B[0;32m    323\u001B[0m     \u001B[38;5;28;01mif\u001B[39;00m timeout \u001B[38;5;241m>\u001B[39m \u001B[38;5;241m0\u001B[39m:\n\u001B[1;32m--> 324\u001B[0m         gotit \u001B[38;5;241m=\u001B[39m \u001B[43mwaiter\u001B[49m\u001B[38;5;241;43m.\u001B[39;49m\u001B[43macquire\u001B[49m\u001B[43m(\u001B[49m\u001B[38;5;28;43;01mTrue\u001B[39;49;00m\u001B[43m,\u001B[49m\u001B[43m \u001B[49m\u001B[43mtimeout\u001B[49m\u001B[43m)\u001B[49m\n\u001B[0;32m    325\u001B[0m     \u001B[38;5;28;01melse\u001B[39;00m:\n\u001B[0;32m    326\u001B[0m         gotit \u001B[38;5;241m=\u001B[39m waiter\u001B[38;5;241m.\u001B[39macquire(\u001B[38;5;28;01mFalse\u001B[39;00m)\n",
      "\u001B[1;31mKeyboardInterrupt\u001B[0m: "
     ]
    }
   ],
   "execution_count": 125
  },
  {
   "metadata": {
    "ExecuteTime": {
     "end_time": "2025-01-30T03:09:58.797849900Z",
     "start_time": "2025-01-28T14:05:24.648594Z"
    }
   },
   "cell_type": "code",
   "source": [
    "from tqdm import tqdm\n",
    "\n",
    "# Extract latitudes and longitudes from training_data\n",
    "latitudes = training_data[\"Latitude\"].values\n",
    "longitudes = training_data[\"Longitude\"].values\n",
    "\n",
    "# Initialize a dictionary to store band values\n",
    "available_bands = [band for band in data.data_vars.keys() if band.startswith(\"B\")]\n",
    "band_values = {band: [] for band in available_bands}  # Only include available bands\n",
    "\n",
    "# Loop through each latitude and longitude\n",
    "for lat, lon in tqdm(zip(latitudes, longitudes), total=len(latitudes), desc=\"Mapping values\"):\n",
    "    # Extract values for each available band\n",
    "    for band in band_values.keys():\n",
    "        band_value = data.sel(longitude=lon, latitude=lat, method=\"nearest\")[band].values\n",
    "        band_values[band].append(band_value)\n",
    "\n",
    "# Add extracted band values to the training_data DataFrame\n",
    "for band, values in band_values.items():\n",
    "    training_data[band] = values\n",
    "\n",
    "# Save the updated DataFrame to a CSV file\n",
    "training_data.to_csv(\"training_data_with_available_bands.csv\", index=False) if not os.path.exists(\"training_data_with_available_bands.csv\") else None\n",
    "\n",
    "# Display the result\n",
    "print(training_data.head())\n"
   ],
   "id": "f45689adb45ca8a9",
   "outputs": [
    {
     "name": "stderr",
     "output_type": "stream",
     "text": [
      "Mapping values:   0%|          | 53/11229 [21:08<74:18:46, 23.94s/it] \n"
     ]
    },
    {
     "ename": "WarpOperationError",
     "evalue": "Chunk and warp failed",
     "output_type": "error",
     "traceback": [
      "\u001B[1;31m---------------------------------------------------------------------------\u001B[0m",
      "\u001B[1;31mCPLE_AppDefinedError\u001B[0m                      Traceback (most recent call last)",
      "\u001B[1;31mCPLE_AppDefinedError\u001B[0m: Request for 45850206-46658033 failed with response_code=403",
      "\nThe above exception was the direct cause of the following exception:\n",
      "\u001B[1;31mCPLE_AppDefinedError\u001B[0m                      Traceback (most recent call last)",
      "\u001B[1;31mCPLE_AppDefinedError\u001B[0m: Request for 49908347-50724630 failed with response_code=403",
      "\nThe above exception was the direct cause of the following exception:\n",
      "\u001B[1;31mCPLE_AppDefinedError\u001B[0m                      Traceback (most recent call last)",
      "\u001B[1;31mCPLE_AppDefinedError\u001B[0m: TIFFFillTile:Read error at row 4294967295, col 4294967295, tile 85; got 0 bytes, expected 399152",
      "\nThe above exception was the direct cause of the following exception:\n",
      "\u001B[1;31mCPLE_AppDefinedError\u001B[0m                      Traceback (most recent call last)",
      "\u001B[1;31mCPLE_AppDefinedError\u001B[0m: TIFFReadEncodedTile() failed.",
      "\nThe above exception was the direct cause of the following exception:\n",
      "\u001B[1;31mCPLE_AppDefinedError\u001B[0m                      Traceback (most recent call last)",
      "File \u001B[1;32mrasterio\\\\_warp.pyx:630\u001B[0m, in \u001B[0;36mrasterio._warp._reproject\u001B[1;34m()\u001B[0m\n",
      "File \u001B[1;32mrasterio\\\\_warp.pyx:630\u001B[0m, in \u001B[0;36mrasterio._warp._reproject\u001B[1;34m()\u001B[0m\n",
      "File \u001B[1;32mrasterio\\\\_warp.pyx:638\u001B[0m, in \u001B[0;36mrasterio._warp._reproject\u001B[1;34m()\u001B[0m\n",
      "File \u001B[1;32mrasterio\\\\_err.pyx:325\u001B[0m, in \u001B[0;36mrasterio._err.StackChecker.exc_wrap_int\u001B[1;34m()\u001B[0m\n",
      "\u001B[1;31mCPLE_AppDefinedError\u001B[0m: T18TWL_20210813T154911_B05_20m.tif?st=2025-01-27T13%3A41%3A32Z&se=2025-01-28T14%3A26%3A32Z&sp=rl&sv=2024-05-04&sr=c&skoid=9c8ff44a-6a2c-4dfb-b298-1c9212f64d9a&sktid=72f988bf-86f1-41af-91ab-2d7cd011db47&skt=2025-01-28T12%3A59%3A40Z&ske=2025-02-04T12%3A59%3A40Z&sks=b&skv=2024-05-04&sig=fbA0nwmt4XWSd1cOTNGxH6q6mQG1VYp5tAD95ir0jhA%3D, band 1: IReadBlock failed at X offset 8, Y offset 7: TIFFReadEncodedTile() failed.",
      "\nThe above exception was the direct cause of the following exception:\n",
      "\u001B[1;31mWarpOperationError\u001B[0m                        Traceback (most recent call last)",
      "Cell \u001B[1;32mIn[126], line 15\u001B[0m\n\u001B[0;32m     12\u001B[0m \u001B[38;5;28;01mfor\u001B[39;00m lat, lon \u001B[38;5;129;01min\u001B[39;00m tqdm(\u001B[38;5;28mzip\u001B[39m(latitudes, longitudes), total\u001B[38;5;241m=\u001B[39m\u001B[38;5;28mlen\u001B[39m(latitudes), desc\u001B[38;5;241m=\u001B[39m\u001B[38;5;124m\"\u001B[39m\u001B[38;5;124mMapping values\u001B[39m\u001B[38;5;124m\"\u001B[39m):\n\u001B[0;32m     13\u001B[0m     \u001B[38;5;66;03m# Extract values for each available band\u001B[39;00m\n\u001B[0;32m     14\u001B[0m     \u001B[38;5;28;01mfor\u001B[39;00m band \u001B[38;5;129;01min\u001B[39;00m band_values\u001B[38;5;241m.\u001B[39mkeys():\n\u001B[1;32m---> 15\u001B[0m         band_value \u001B[38;5;241m=\u001B[39m \u001B[43mdata\u001B[49m\u001B[38;5;241;43m.\u001B[39;49m\u001B[43msel\u001B[49m\u001B[43m(\u001B[49m\u001B[43mlongitude\u001B[49m\u001B[38;5;241;43m=\u001B[39;49m\u001B[43mlon\u001B[49m\u001B[43m,\u001B[49m\u001B[43m \u001B[49m\u001B[43mlatitude\u001B[49m\u001B[38;5;241;43m=\u001B[39;49m\u001B[43mlat\u001B[49m\u001B[43m,\u001B[49m\u001B[43m \u001B[49m\u001B[43mmethod\u001B[49m\u001B[38;5;241;43m=\u001B[39;49m\u001B[38;5;124;43m\"\u001B[39;49m\u001B[38;5;124;43mnearest\u001B[39;49m\u001B[38;5;124;43m\"\u001B[39;49m\u001B[43m)\u001B[49m\u001B[43m[\u001B[49m\u001B[43mband\u001B[49m\u001B[43m]\u001B[49m\u001B[38;5;241;43m.\u001B[39;49m\u001B[43mvalues\u001B[49m\n\u001B[0;32m     16\u001B[0m         band_values[band]\u001B[38;5;241m.\u001B[39mappend(band_value)\n\u001B[0;32m     18\u001B[0m \u001B[38;5;66;03m# Add extracted band values to the training_data DataFrame\u001B[39;00m\n",
      "File \u001B[1;32m~\\PycharmProjects\\EY_DataChallenge_2025\\.venv\\lib\\site-packages\\xarray\\core\\dataarray.py:814\u001B[0m, in \u001B[0;36mDataArray.values\u001B[1;34m(self)\u001B[0m\n\u001B[0;32m    801\u001B[0m \u001B[38;5;129m@property\u001B[39m\n\u001B[0;32m    802\u001B[0m \u001B[38;5;28;01mdef\u001B[39;00m\u001B[38;5;250m \u001B[39m\u001B[38;5;21mvalues\u001B[39m(\u001B[38;5;28mself\u001B[39m) \u001B[38;5;241m-\u001B[39m\u001B[38;5;241m>\u001B[39m np\u001B[38;5;241m.\u001B[39mndarray:\n\u001B[0;32m    803\u001B[0m \u001B[38;5;250m    \u001B[39m\u001B[38;5;124;03m\"\"\"\u001B[39;00m\n\u001B[0;32m    804\u001B[0m \u001B[38;5;124;03m    The array's data converted to numpy.ndarray.\u001B[39;00m\n\u001B[0;32m    805\u001B[0m \n\u001B[1;32m   (...)\u001B[0m\n\u001B[0;32m    812\u001B[0m \u001B[38;5;124;03m    to this array may be reflected in the DataArray as well.\u001B[39;00m\n\u001B[0;32m    813\u001B[0m \u001B[38;5;124;03m    \"\"\"\u001B[39;00m\n\u001B[1;32m--> 814\u001B[0m     \u001B[38;5;28;01mreturn\u001B[39;00m \u001B[38;5;28;43mself\u001B[39;49m\u001B[38;5;241;43m.\u001B[39;49m\u001B[43mvariable\u001B[49m\u001B[38;5;241;43m.\u001B[39;49m\u001B[43mvalues\u001B[49m\n",
      "File \u001B[1;32m~\\PycharmProjects\\EY_DataChallenge_2025\\.venv\\lib\\site-packages\\xarray\\core\\variable.py:565\u001B[0m, in \u001B[0;36mVariable.values\u001B[1;34m(self)\u001B[0m\n\u001B[0;32m    562\u001B[0m \u001B[38;5;129m@property\u001B[39m\n\u001B[0;32m    563\u001B[0m \u001B[38;5;28;01mdef\u001B[39;00m\u001B[38;5;250m \u001B[39m\u001B[38;5;21mvalues\u001B[39m(\u001B[38;5;28mself\u001B[39m) \u001B[38;5;241m-\u001B[39m\u001B[38;5;241m>\u001B[39m np\u001B[38;5;241m.\u001B[39mndarray:\n\u001B[0;32m    564\u001B[0m \u001B[38;5;250m    \u001B[39m\u001B[38;5;124;03m\"\"\"The variable's data as a numpy.ndarray\"\"\"\u001B[39;00m\n\u001B[1;32m--> 565\u001B[0m     \u001B[38;5;28;01mreturn\u001B[39;00m \u001B[43m_as_array_or_item\u001B[49m\u001B[43m(\u001B[49m\u001B[38;5;28;43mself\u001B[39;49m\u001B[38;5;241;43m.\u001B[39;49m\u001B[43m_data\u001B[49m\u001B[43m)\u001B[49m\n",
      "File \u001B[1;32m~\\PycharmProjects\\EY_DataChallenge_2025\\.venv\\lib\\site-packages\\xarray\\core\\variable.py:362\u001B[0m, in \u001B[0;36m_as_array_or_item\u001B[1;34m(data)\u001B[0m\n\u001B[0;32m    348\u001B[0m \u001B[38;5;28;01mdef\u001B[39;00m\u001B[38;5;250m \u001B[39m\u001B[38;5;21m_as_array_or_item\u001B[39m(data):\n\u001B[0;32m    349\u001B[0m \u001B[38;5;250m    \u001B[39m\u001B[38;5;124;03m\"\"\"Return the given values as a numpy array, or as an individual item if\u001B[39;00m\n\u001B[0;32m    350\u001B[0m \u001B[38;5;124;03m    it's a 0d datetime64 or timedelta64 array.\u001B[39;00m\n\u001B[0;32m    351\u001B[0m \n\u001B[1;32m   (...)\u001B[0m\n\u001B[0;32m    360\u001B[0m \u001B[38;5;124;03m    TODO: remove this (replace with np.asarray) once these issues are fixed\u001B[39;00m\n\u001B[0;32m    361\u001B[0m \u001B[38;5;124;03m    \"\"\"\u001B[39;00m\n\u001B[1;32m--> 362\u001B[0m     data \u001B[38;5;241m=\u001B[39m \u001B[43mnp\u001B[49m\u001B[38;5;241;43m.\u001B[39;49m\u001B[43masarray\u001B[49m\u001B[43m(\u001B[49m\u001B[43mdata\u001B[49m\u001B[43m)\u001B[49m\n\u001B[0;32m    363\u001B[0m     \u001B[38;5;28;01mif\u001B[39;00m data\u001B[38;5;241m.\u001B[39mndim \u001B[38;5;241m==\u001B[39m \u001B[38;5;241m0\u001B[39m:\n\u001B[0;32m    364\u001B[0m         \u001B[38;5;28;01mif\u001B[39;00m data\u001B[38;5;241m.\u001B[39mdtype\u001B[38;5;241m.\u001B[39mkind \u001B[38;5;241m==\u001B[39m \u001B[38;5;124m\"\u001B[39m\u001B[38;5;124mM\u001B[39m\u001B[38;5;124m\"\u001B[39m:\n",
      "File \u001B[1;32m~\\PycharmProjects\\EY_DataChallenge_2025\\.venv\\lib\\site-packages\\dask\\array\\core.py:1717\u001B[0m, in \u001B[0;36mArray.__array__\u001B[1;34m(self, dtype, **kwargs)\u001B[0m\n\u001B[0;32m   1716\u001B[0m \u001B[38;5;28;01mdef\u001B[39;00m\u001B[38;5;250m \u001B[39m\u001B[38;5;21m__array__\u001B[39m(\u001B[38;5;28mself\u001B[39m, dtype\u001B[38;5;241m=\u001B[39m\u001B[38;5;28;01mNone\u001B[39;00m, \u001B[38;5;241m*\u001B[39m\u001B[38;5;241m*\u001B[39mkwargs):\n\u001B[1;32m-> 1717\u001B[0m     x \u001B[38;5;241m=\u001B[39m \u001B[38;5;28;43mself\u001B[39;49m\u001B[38;5;241;43m.\u001B[39;49m\u001B[43mcompute\u001B[49m\u001B[43m(\u001B[49m\u001B[43m)\u001B[49m\n\u001B[0;32m   1718\u001B[0m     \u001B[38;5;28;01mif\u001B[39;00m dtype \u001B[38;5;129;01mand\u001B[39;00m x\u001B[38;5;241m.\u001B[39mdtype \u001B[38;5;241m!=\u001B[39m dtype:\n\u001B[0;32m   1719\u001B[0m         x \u001B[38;5;241m=\u001B[39m x\u001B[38;5;241m.\u001B[39mastype(dtype)\n",
      "File \u001B[1;32m~\\PycharmProjects\\EY_DataChallenge_2025\\.venv\\lib\\site-packages\\dask\\base.py:374\u001B[0m, in \u001B[0;36mDaskMethodsMixin.compute\u001B[1;34m(self, **kwargs)\u001B[0m\n\u001B[0;32m    350\u001B[0m \u001B[38;5;28;01mdef\u001B[39;00m\u001B[38;5;250m \u001B[39m\u001B[38;5;21mcompute\u001B[39m(\u001B[38;5;28mself\u001B[39m, \u001B[38;5;241m*\u001B[39m\u001B[38;5;241m*\u001B[39mkwargs):\n\u001B[0;32m    351\u001B[0m \u001B[38;5;250m    \u001B[39m\u001B[38;5;124;03m\"\"\"Compute this dask collection\u001B[39;00m\n\u001B[0;32m    352\u001B[0m \n\u001B[0;32m    353\u001B[0m \u001B[38;5;124;03m    This turns a lazy Dask collection into its in-memory equivalent.\u001B[39;00m\n\u001B[1;32m   (...)\u001B[0m\n\u001B[0;32m    372\u001B[0m \u001B[38;5;124;03m    dask.compute\u001B[39;00m\n\u001B[0;32m    373\u001B[0m \u001B[38;5;124;03m    \"\"\"\u001B[39;00m\n\u001B[1;32m--> 374\u001B[0m     (result,) \u001B[38;5;241m=\u001B[39m compute(\u001B[38;5;28mself\u001B[39m, traverse\u001B[38;5;241m=\u001B[39m\u001B[38;5;28;01mFalse\u001B[39;00m, \u001B[38;5;241m*\u001B[39m\u001B[38;5;241m*\u001B[39mkwargs)\n\u001B[0;32m    375\u001B[0m     \u001B[38;5;28;01mreturn\u001B[39;00m result\n",
      "File \u001B[1;32m~\\PycharmProjects\\EY_DataChallenge_2025\\.venv\\lib\\site-packages\\dask\\base.py:662\u001B[0m, in \u001B[0;36mcompute\u001B[1;34m(traverse, optimize_graph, scheduler, get, *args, **kwargs)\u001B[0m\n\u001B[0;32m    659\u001B[0m     postcomputes\u001B[38;5;241m.\u001B[39mappend(x\u001B[38;5;241m.\u001B[39m__dask_postcompute__())\n\u001B[0;32m    661\u001B[0m \u001B[38;5;28;01mwith\u001B[39;00m shorten_traceback():\n\u001B[1;32m--> 662\u001B[0m     results \u001B[38;5;241m=\u001B[39m schedule(dsk, keys, \u001B[38;5;241m*\u001B[39m\u001B[38;5;241m*\u001B[39mkwargs)\n\u001B[0;32m    664\u001B[0m \u001B[38;5;28;01mreturn\u001B[39;00m repack([f(r, \u001B[38;5;241m*\u001B[39ma) \u001B[38;5;28;01mfor\u001B[39;00m r, (f, a) \u001B[38;5;129;01min\u001B[39;00m \u001B[38;5;28mzip\u001B[39m(results, postcomputes)])\n",
      "File \u001B[1;32m~\\PycharmProjects\\EY_DataChallenge_2025\\.venv\\lib\\site-packages\\odc\\loader\\_builder.py:435\u001B[0m, in \u001B[0;36m_dask_loader_tyx\u001B[1;34m(srcs, gbt, iyx, prefix_dims, postfix_dims, cfg, rdr, env, load_state, selection)\u001B[0m\n\u001B[0;32m    433\u001B[0m \u001B[38;5;28;01mwith\u001B[39;00m rdr\u001B[38;5;241m.\u001B[39mrestore_env(env, load_state):\n\u001B[0;32m    434\u001B[0m     \u001B[38;5;28;01mfor\u001B[39;00m ti, ti_srcs \u001B[38;5;129;01min\u001B[39;00m \u001B[38;5;28menumerate\u001B[39m(srcs):\n\u001B[1;32m--> 435\u001B[0m         \u001B[43m_fill_nd_slice\u001B[49m\u001B[43m(\u001B[49m\n\u001B[0;32m    436\u001B[0m \u001B[43m            \u001B[49m\u001B[43mti_srcs\u001B[49m\u001B[43m,\u001B[49m\u001B[43m \u001B[49m\u001B[43mgbox\u001B[49m\u001B[43m,\u001B[49m\u001B[43m \u001B[49m\u001B[43mcfg\u001B[49m\u001B[43m,\u001B[49m\u001B[43m \u001B[49m\u001B[43mchunk\u001B[49m\u001B[43m[\u001B[49m\u001B[43mti\u001B[49m\u001B[43m]\u001B[49m\u001B[43m,\u001B[49m\u001B[43m \u001B[49m\u001B[43mydim\u001B[49m\u001B[38;5;241;43m=\u001B[39;49m\u001B[43mydim\u001B[49m\u001B[43m,\u001B[49m\u001B[43m \u001B[49m\u001B[43mselection\u001B[49m\u001B[38;5;241;43m=\u001B[39;49m\u001B[43mselection\u001B[49m\n\u001B[0;32m    437\u001B[0m \u001B[43m        \u001B[49m\u001B[43m)\u001B[49m\n\u001B[0;32m    438\u001B[0m     \u001B[38;5;28;01mreturn\u001B[39;00m chunk\n",
      "File \u001B[1;32m~\\PycharmProjects\\EY_DataChallenge_2025\\.venv\\lib\\site-packages\\odc\\loader\\_builder.py:512\u001B[0m, in \u001B[0;36m_fill_nd_slice\u001B[1;34m(srcs, dst_gbox, cfg, dst, ydim, selection)\u001B[0m\n\u001B[0;32m    509\u001B[0m     \u001B[38;5;28;01mreturn\u001B[39;00m dst\n\u001B[0;32m    511\u001B[0m src, \u001B[38;5;241m*\u001B[39mrest \u001B[38;5;241m=\u001B[39m srcs\n\u001B[1;32m--> 512\u001B[0m yx_roi, pix \u001B[38;5;241m=\u001B[39m \u001B[43msrc\u001B[49m\u001B[38;5;241;43m.\u001B[39;49m\u001B[43mread\u001B[49m\u001B[43m(\u001B[49m\u001B[43mcfg\u001B[49m\u001B[43m,\u001B[49m\u001B[43m \u001B[49m\u001B[43mdst_gbox\u001B[49m\u001B[43m,\u001B[49m\u001B[43m \u001B[49m\u001B[43mdst\u001B[49m\u001B[38;5;241;43m=\u001B[39;49m\u001B[43mdst\u001B[49m\u001B[43m,\u001B[49m\u001B[43m \u001B[49m\u001B[43mselection\u001B[49m\u001B[38;5;241;43m=\u001B[39;49m\u001B[43mselection\u001B[49m\u001B[43m)\u001B[49m\n\u001B[0;32m    513\u001B[0m \u001B[38;5;28;01massert\u001B[39;00m \u001B[38;5;28mlen\u001B[39m(yx_roi) \u001B[38;5;241m==\u001B[39m \u001B[38;5;241m2\u001B[39m\n\u001B[0;32m    514\u001B[0m \u001B[38;5;28;01massert\u001B[39;00m pix\u001B[38;5;241m.\u001B[39mndim \u001B[38;5;241m==\u001B[39m dst\u001B[38;5;241m.\u001B[39mndim\n",
      "File \u001B[1;32m~\\PycharmProjects\\EY_DataChallenge_2025\\.venv\\lib\\site-packages\\odc\\loader\\_rio.py:115\u001B[0m, in \u001B[0;36mRioReader.read\u001B[1;34m(self, cfg, dst_geobox, dst, selection)\u001B[0m\n\u001B[0;32m    107\u001B[0m \u001B[38;5;28;01mdef\u001B[39;00m\u001B[38;5;250m \u001B[39m\u001B[38;5;21mread\u001B[39m(\n\u001B[0;32m    108\u001B[0m     \u001B[38;5;28mself\u001B[39m,\n\u001B[0;32m    109\u001B[0m     cfg: RasterLoadParams,\n\u001B[1;32m   (...)\u001B[0m\n\u001B[0;32m    113\u001B[0m     selection: Optional[ReaderSubsetSelection] \u001B[38;5;241m=\u001B[39m \u001B[38;5;28;01mNone\u001B[39;00m,\n\u001B[0;32m    114\u001B[0m ) \u001B[38;5;241m-\u001B[39m\u001B[38;5;241m>\u001B[39m \u001B[38;5;28mtuple\u001B[39m[\u001B[38;5;28mtuple\u001B[39m[\u001B[38;5;28mslice\u001B[39m, \u001B[38;5;28mslice\u001B[39m], np\u001B[38;5;241m.\u001B[39mndarray]:\n\u001B[1;32m--> 115\u001B[0m     \u001B[38;5;28;01mreturn\u001B[39;00m \u001B[43mrio_read\u001B[49m\u001B[43m(\u001B[49m\u001B[38;5;28;43mself\u001B[39;49m\u001B[38;5;241;43m.\u001B[39;49m\u001B[43m_src\u001B[49m\u001B[43m,\u001B[49m\u001B[43m \u001B[49m\u001B[43mcfg\u001B[49m\u001B[43m,\u001B[49m\u001B[43m \u001B[49m\u001B[43mdst_geobox\u001B[49m\u001B[43m,\u001B[49m\u001B[43m \u001B[49m\u001B[43mdst\u001B[49m\u001B[38;5;241;43m=\u001B[39;49m\u001B[43mdst\u001B[49m\u001B[43m,\u001B[49m\u001B[43m \u001B[49m\u001B[43mselection\u001B[49m\u001B[38;5;241;43m=\u001B[39;49m\u001B[43mselection\u001B[49m\u001B[43m)\u001B[49m\n",
      "File \u001B[1;32m~\\PycharmProjects\\EY_DataChallenge_2025\\.venv\\lib\\site-packages\\odc\\loader\\_rio.py:526\u001B[0m, in \u001B[0;36mrio_read\u001B[1;34m(src, cfg, dst_geobox, dst, selection)\u001B[0m\n\u001B[0;32m    520\u001B[0m     \u001B[38;5;28;01mif\u001B[39;00m cfg\u001B[38;5;241m.\u001B[39mfail_on_error:\n\u001B[0;32m    521\u001B[0m         log\u001B[38;5;241m.\u001B[39merror(\n\u001B[0;32m    522\u001B[0m             \u001B[38;5;124m\"\u001B[39m\u001B[38;5;124mAborting load due to failure while reading: \u001B[39m\u001B[38;5;132;01m%s\u001B[39;00m\u001B[38;5;124m:\u001B[39m\u001B[38;5;132;01m%d\u001B[39;00m\u001B[38;5;124m\"\u001B[39m,\n\u001B[0;32m    523\u001B[0m             src\u001B[38;5;241m.\u001B[39muri,\n\u001B[0;32m    524\u001B[0m             src\u001B[38;5;241m.\u001B[39mband,\n\u001B[0;32m    525\u001B[0m         )\n\u001B[1;32m--> 526\u001B[0m         \u001B[38;5;28;01mraise\u001B[39;00m e\n\u001B[0;32m    527\u001B[0m \u001B[38;5;28;01mexcept\u001B[39;00m rasterio\u001B[38;5;241m.\u001B[39merrors\u001B[38;5;241m.\u001B[39mRasterioError \u001B[38;5;28;01mas\u001B[39;00m e:\n\u001B[0;32m    528\u001B[0m     \u001B[38;5;28;01mif\u001B[39;00m cfg\u001B[38;5;241m.\u001B[39mfail_on_error:\n",
      "File \u001B[1;32m~\\PycharmProjects\\EY_DataChallenge_2025\\.venv\\lib\\site-packages\\odc\\loader\\_rio.py:512\u001B[0m, in \u001B[0;36mrio_read\u001B[1;34m(src, cfg, dst_geobox, dst, selection)\u001B[0m\n\u001B[0;32m    508\u001B[0m     \u001B[38;5;28;01mreturn\u001B[39;00m roi, out\u001B[38;5;241m.\u001B[39mtranspose([\u001B[38;5;241m1\u001B[39m, \u001B[38;5;241m2\u001B[39m, \u001B[38;5;241m0\u001B[39m])\n\u001B[0;32m    510\u001B[0m \u001B[38;5;28;01mtry\u001B[39;00m:\n\u001B[0;32m    511\u001B[0m     \u001B[38;5;28;01mreturn\u001B[39;00m fixup_out(\n\u001B[1;32m--> 512\u001B[0m         \u001B[43m_rio_read\u001B[49m\u001B[43m(\u001B[49m\u001B[43msrc\u001B[49m\u001B[43m,\u001B[49m\u001B[43m \u001B[49m\u001B[43mcfg\u001B[49m\u001B[43m,\u001B[49m\u001B[43m \u001B[49m\u001B[43mdst_geobox\u001B[49m\u001B[43m,\u001B[49m\u001B[43m \u001B[49m\u001B[43mprep_dst\u001B[49m\u001B[43m(\u001B[49m\u001B[43mdst\u001B[49m\u001B[43m)\u001B[49m\u001B[43m,\u001B[49m\u001B[43m \u001B[49m\u001B[43mselection\u001B[49m\u001B[38;5;241;43m=\u001B[39;49m\u001B[43mselection\u001B[49m\u001B[43m)\u001B[49m\n\u001B[0;32m    513\u001B[0m     )\n\u001B[0;32m    514\u001B[0m \u001B[38;5;28;01mexcept\u001B[39;00m (\n\u001B[0;32m    515\u001B[0m     rasterio\u001B[38;5;241m.\u001B[39merrors\u001B[38;5;241m.\u001B[39mRasterioIOError,\n\u001B[0;32m    516\u001B[0m     rasterio\u001B[38;5;241m.\u001B[39merrors\u001B[38;5;241m.\u001B[39mRasterBlockError,\n\u001B[0;32m    517\u001B[0m     rasterio\u001B[38;5;241m.\u001B[39merrors\u001B[38;5;241m.\u001B[39mWarpOperationError,\n\u001B[0;32m    518\u001B[0m     rasterio\u001B[38;5;241m.\u001B[39merrors\u001B[38;5;241m.\u001B[39mWindowEvaluationError,\n\u001B[0;32m    519\u001B[0m ) \u001B[38;5;28;01mas\u001B[39;00m e:\n\u001B[0;32m    520\u001B[0m     \u001B[38;5;28;01mif\u001B[39;00m cfg\u001B[38;5;241m.\u001B[39mfail_on_error:\n",
      "File \u001B[1;32m~\\PycharmProjects\\EY_DataChallenge_2025\\.venv\\lib\\site-packages\\odc\\loader\\_rio.py:573\u001B[0m, in \u001B[0;36m_rio_read\u001B[1;34m(src, cfg, dst_geobox, dst, selection)\u001B[0m\n\u001B[0;32m    571\u001B[0m \u001B[38;5;28;01mif\u001B[39;00m ovr_idx \u001B[38;5;129;01mis\u001B[39;00m \u001B[38;5;28;01mNone\u001B[39;00m:\n\u001B[0;32m    572\u001B[0m     \u001B[38;5;28;01mwith\u001B[39;00m rio_env(VSI_CACHE\u001B[38;5;241m=\u001B[39m\u001B[38;5;28;01mFalse\u001B[39;00m):\n\u001B[1;32m--> 573\u001B[0m         \u001B[38;5;28;01mreturn\u001B[39;00m \u001B[43m_do_read\u001B[49m\u001B[43m(\u001B[49m\u001B[43mrasterio\u001B[49m\u001B[38;5;241;43m.\u001B[39;49m\u001B[43mband\u001B[49m\u001B[43m(\u001B[49m\u001B[43mrdr\u001B[49m\u001B[43m,\u001B[49m\u001B[43m \u001B[49m\u001B[43mbidx\u001B[49m\u001B[43m)\u001B[49m\u001B[43m,\u001B[49m\u001B[43m \u001B[49m\u001B[43mcfg\u001B[49m\u001B[43m,\u001B[49m\u001B[43m \u001B[49m\u001B[43mdst_geobox\u001B[49m\u001B[43m,\u001B[49m\u001B[43m \u001B[49m\u001B[43mrr\u001B[49m\u001B[43m,\u001B[49m\u001B[43m \u001B[49m\u001B[43mdst\u001B[49m\u001B[38;5;241;43m=\u001B[39;49m\u001B[43mdst\u001B[49m\u001B[43m)\u001B[49m\n\u001B[0;32m    575\u001B[0m \u001B[38;5;66;03m# read from overview\u001B[39;00m\n\u001B[0;32m    576\u001B[0m \u001B[38;5;28;01mwith\u001B[39;00m rasterio\u001B[38;5;241m.\u001B[39mopen(\n\u001B[0;32m    577\u001B[0m     src\u001B[38;5;241m.\u001B[39muri, \u001B[38;5;124m\"\u001B[39m\u001B[38;5;124mr\u001B[39m\u001B[38;5;124m\"\u001B[39m, sharing\u001B[38;5;241m=\u001B[39m\u001B[38;5;28;01mFalse\u001B[39;00m, overview_level\u001B[38;5;241m=\u001B[39movr_idx\n\u001B[0;32m    578\u001B[0m ) \u001B[38;5;28;01mas\u001B[39;00m rdr_ovr:\n",
      "File \u001B[1;32m~\\PycharmProjects\\EY_DataChallenge_2025\\.venv\\lib\\site-packages\\odc\\loader\\_rio.py:440\u001B[0m, in \u001B[0;36m_do_read\u001B[1;34m(src, cfg, dst_geobox, rr, dst)\u001B[0m\n\u001B[0;32m    434\u001B[0m         np\u001B[38;5;241m.\u001B[39mcopyto(_dst, dst_nodata, where\u001B[38;5;241m=\u001B[39mnodata_mask(_dst, src_nodata))\n\u001B[0;32m    435\u001B[0m \u001B[38;5;28;01melse\u001B[39;00m:\n\u001B[0;32m    436\u001B[0m     \u001B[38;5;66;03m# some form of reproject\u001B[39;00m\n\u001B[0;32m    437\u001B[0m     \u001B[38;5;66;03m# TODO: support read with integer shrink then reproject more\u001B[39;00m\n\u001B[0;32m    438\u001B[0m     \u001B[38;5;66;03m# TODO: deal with int8 inputs\u001B[39;00m\n\u001B[1;32m--> 440\u001B[0m     \u001B[43mrasterio\u001B[49m\u001B[38;5;241;43m.\u001B[39;49m\u001B[43mwarp\u001B[49m\u001B[38;5;241;43m.\u001B[39;49m\u001B[43mreproject\u001B[49m\u001B[43m(\u001B[49m\n\u001B[0;32m    441\u001B[0m \u001B[43m        \u001B[49m\u001B[43msrc\u001B[49m\u001B[43m,\u001B[49m\n\u001B[0;32m    442\u001B[0m \u001B[43m        \u001B[49m\u001B[43m_dst\u001B[49m\u001B[43m,\u001B[49m\n\u001B[0;32m    443\u001B[0m \u001B[43m        \u001B[49m\u001B[43msrc_nodata\u001B[49m\u001B[38;5;241;43m=\u001B[39;49m\u001B[43msrc_nodata\u001B[49m\u001B[43m,\u001B[49m\n\u001B[0;32m    444\u001B[0m \u001B[43m        \u001B[49m\u001B[43mdst_crs\u001B[49m\u001B[38;5;241;43m=\u001B[39;49m\u001B[38;5;28;43mstr\u001B[39;49m\u001B[43m(\u001B[49m\u001B[43mdst_geobox\u001B[49m\u001B[38;5;241;43m.\u001B[39;49m\u001B[43mcrs\u001B[49m\u001B[43m)\u001B[49m\u001B[43m,\u001B[49m\n\u001B[0;32m    445\u001B[0m \u001B[43m        \u001B[49m\u001B[43mdst_transform\u001B[49m\u001B[38;5;241;43m=\u001B[39;49m\u001B[43mdst_geobox\u001B[49m\u001B[43m[\u001B[49m\u001B[43mrr\u001B[49m\u001B[38;5;241;43m.\u001B[39;49m\u001B[43mroi_dst\u001B[49m\u001B[43m]\u001B[49m\u001B[38;5;241;43m.\u001B[39;49m\u001B[43mtransform\u001B[49m\u001B[43m,\u001B[49m\n\u001B[0;32m    446\u001B[0m \u001B[43m        \u001B[49m\u001B[43mdst_nodata\u001B[49m\u001B[38;5;241;43m=\u001B[39;49m\u001B[43mdst_nodata\u001B[49m\u001B[43m,\u001B[49m\n\u001B[0;32m    447\u001B[0m \u001B[43m        \u001B[49m\u001B[43mresampling\u001B[49m\u001B[38;5;241;43m=\u001B[39;49m\u001B[43mresampling\u001B[49m\u001B[43m,\u001B[49m\n\u001B[0;32m    448\u001B[0m \u001B[43m    \u001B[49m\u001B[43m)\u001B[49m\n\u001B[0;32m    450\u001B[0m \u001B[38;5;28;01mreturn\u001B[39;00m (roi_dst, _dst)\n",
      "File \u001B[1;32m~\\PycharmProjects\\EY_DataChallenge_2025\\.venv\\lib\\site-packages\\rasterio\\env.py:410\u001B[0m, in \u001B[0;36mensure_env.<locals>.wrapper\u001B[1;34m(*args, **kwds)\u001B[0m\n\u001B[0;32m    407\u001B[0m \u001B[38;5;129m@wraps\u001B[39m(f)\n\u001B[0;32m    408\u001B[0m \u001B[38;5;28;01mdef\u001B[39;00m\u001B[38;5;250m \u001B[39m\u001B[38;5;21mwrapper\u001B[39m(\u001B[38;5;241m*\u001B[39margs, \u001B[38;5;241m*\u001B[39m\u001B[38;5;241m*\u001B[39mkwds):\n\u001B[0;32m    409\u001B[0m     \u001B[38;5;28;01mif\u001B[39;00m local\u001B[38;5;241m.\u001B[39m_env:\n\u001B[1;32m--> 410\u001B[0m         \u001B[38;5;28;01mreturn\u001B[39;00m f(\u001B[38;5;241m*\u001B[39margs, \u001B[38;5;241m*\u001B[39m\u001B[38;5;241m*\u001B[39mkwds)\n\u001B[0;32m    411\u001B[0m     \u001B[38;5;28;01melse\u001B[39;00m:\n\u001B[0;32m    412\u001B[0m         \u001B[38;5;28;01mwith\u001B[39;00m Env\u001B[38;5;241m.\u001B[39mfrom_defaults():\n",
      "File \u001B[1;32m~\\PycharmProjects\\EY_DataChallenge_2025\\.venv\\lib\\site-packages\\rasterio\\warp.py:387\u001B[0m, in \u001B[0;36mreproject\u001B[1;34m(source, destination, src_transform, gcps, rpcs, src_crs, src_nodata, dst_transform, dst_crs, dst_nodata, dst_resolution, src_alpha, dst_alpha, masked, resampling, num_threads, init_dest_nodata, warp_mem_limit, src_geoloc_array, **kwargs)\u001B[0m\n\u001B[0;32m    384\u001B[0m         \u001B[38;5;28;01mif\u001B[39;00m masked:\n\u001B[0;32m    385\u001B[0m             destination \u001B[38;5;241m=\u001B[39m np\u001B[38;5;241m.\u001B[39mma\u001B[38;5;241m.\u001B[39mmasked_array(destination)\u001B[38;5;241m.\u001B[39mfilled(dst_nodata)\n\u001B[1;32m--> 387\u001B[0m dest \u001B[38;5;241m=\u001B[39m _reproject(\n\u001B[0;32m    388\u001B[0m     source,\n\u001B[0;32m    389\u001B[0m     destination,\n\u001B[0;32m    390\u001B[0m     src_transform\u001B[38;5;241m=\u001B[39msrc_transform,\n\u001B[0;32m    391\u001B[0m     gcps\u001B[38;5;241m=\u001B[39mgcps,\n\u001B[0;32m    392\u001B[0m     rpcs\u001B[38;5;241m=\u001B[39mrpcs,\n\u001B[0;32m    393\u001B[0m     src_crs\u001B[38;5;241m=\u001B[39msrc_crs,\n\u001B[0;32m    394\u001B[0m     src_nodata\u001B[38;5;241m=\u001B[39msrc_nodata,\n\u001B[0;32m    395\u001B[0m     dst_transform\u001B[38;5;241m=\u001B[39mdst_transform,\n\u001B[0;32m    396\u001B[0m     dst_crs\u001B[38;5;241m=\u001B[39mdst_crs,\n\u001B[0;32m    397\u001B[0m     dst_nodata\u001B[38;5;241m=\u001B[39mdst_nodata,\n\u001B[0;32m    398\u001B[0m     dst_alpha\u001B[38;5;241m=\u001B[39mdst_alpha,\n\u001B[0;32m    399\u001B[0m     src_alpha\u001B[38;5;241m=\u001B[39msrc_alpha,\n\u001B[0;32m    400\u001B[0m     resampling\u001B[38;5;241m=\u001B[39mresampling,\n\u001B[0;32m    401\u001B[0m     init_dest_nodata\u001B[38;5;241m=\u001B[39minit_dest_nodata,\n\u001B[0;32m    402\u001B[0m     num_threads\u001B[38;5;241m=\u001B[39mnum_threads,\n\u001B[0;32m    403\u001B[0m     warp_mem_limit\u001B[38;5;241m=\u001B[39mwarp_mem_limit,\n\u001B[0;32m    404\u001B[0m     src_geoloc_array\u001B[38;5;241m=\u001B[39msrc_geoloc_array,\n\u001B[0;32m    405\u001B[0m     \u001B[38;5;241m*\u001B[39m\u001B[38;5;241m*\u001B[39mkwargs\n\u001B[0;32m    406\u001B[0m )\n\u001B[0;32m    408\u001B[0m \u001B[38;5;28;01mreturn\u001B[39;00m dest, dst_transform\n",
      "File \u001B[1;32mrasterio\\\\_warp.pyx:641\u001B[0m, in \u001B[0;36mrasterio._warp._reproject\u001B[1;34m()\u001B[0m\n",
      "\u001B[1;31mWarpOperationError\u001B[0m: Chunk and warp failed"
     ]
    }
   ],
   "execution_count": 126
  },
  {
   "metadata": {},
   "cell_type": "code",
   "outputs": [],
   "execution_count": null,
   "source": "",
   "id": "4dd793cc66e0dd97"
  }
 ],
 "metadata": {
  "kernelspec": {
   "display_name": "Python 3",
   "language": "python",
   "name": "python3"
  },
  "language_info": {
   "codemirror_mode": {
    "name": "ipython",
    "version": 2
   },
   "file_extension": ".py",
   "mimetype": "text/x-python",
   "name": "python",
   "nbconvert_exporter": "python",
   "pygments_lexer": "ipython2",
   "version": "2.7.6"
  }
 },
 "nbformat": 4,
 "nbformat_minor": 5
}
